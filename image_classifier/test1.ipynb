{
 "cells": [
  {
   "cell_type": "code",
   "execution_count": 1,
   "metadata": {},
   "outputs": [
    {
     "name": "stderr",
     "output_type": "stream",
     "text": [
      "Using TensorFlow backend.\n"
     ]
    }
   ],
   "source": [
    "from datetime import datetime\n",
    "import json\n",
    "import os\n",
    "import numpy as np\n",
    "\n",
    "import tensorflow as tf\n",
    "import pandas as pd\n",
    "import tensorflow_hub as hub\n",
    "from keras import Sequential\n",
    "from keras.callbacks import ModelCheckpoint\n",
    "from keras.layers import Lambda, Dense\n",
    "import matplotlib.pyplot as plt\n",
    "\n",
    "from utility.train_data_loader import load_train_data"
   ]
  },
  {
   "cell_type": "code",
   "execution_count": 42,
   "metadata": {},
   "outputs": [],
   "source": [
    "epochs = 1\n",
    "batch_size = 64\n",
    "specialization = \"beauty\""
   ]
  },
  {
   "cell_type": "code",
   "execution_count": 3,
   "metadata": {},
   "outputs": [],
   "source": [
    "categories_file = open(\"../data/categories.json\", \"r\")\n",
    "categories = json.load(categories_file)\n"
   ]
  },
  {
   "cell_type": "code",
   "execution_count": 4,
   "metadata": {},
   "outputs": [],
   "source": [
    "all_subcategories = {k.lower(): v for k, v in categories['Mobile'].items()}\n",
    "all_subcategories.update({k.lower(): v for k, v in categories['Fashion'].items()})\n",
    "all_subcategories.update({k.lower(): v for k, v in categories['Beauty'].items()})\n"
   ]
  },
  {
   "cell_type": "code",
   "execution_count": 5,
   "metadata": {},
   "outputs": [],
   "source": [
    "data_root = \"../../\"+specialization+\"_image/\"\n"
   ]
  },
  {
   "cell_type": "code",
   "execution_count": 6,
   "metadata": {},
   "outputs": [],
   "source": [
    "datagen = tf.keras.preprocessing.image.ImageDataGenerator(rescale=1./255)\n",
    "valid_datagen = tf.keras.preprocessing.image.ImageDataGenerator(rescale=1./255)\n",
    "test_datagen = tf.keras.preprocessing.image.ImageDataGenerator(rescale=1./255)\n"
   ]
  },
  {
   "cell_type": "code",
   "execution_count": 7,
   "metadata": {},
   "outputs": [],
   "source": [
    "feature_extractor_url = \"https://tfhub.dev/google/imagenet/mobilenet_v2_100_224/feature_vector/2\"\n"
   ]
  },
  {
   "cell_type": "code",
   "execution_count": 8,
   "metadata": {},
   "outputs": [
    {
     "name": "stdout",
     "output_type": "stream",
     "text": [
      "custom train data used\n"
     ]
    }
   ],
   "source": [
    "trainData = load_train_data()\n",
    "testData = pd.read_csv(\"../data/new_test.csv\")"
   ]
  },
  {
   "cell_type": "code",
   "execution_count": 24,
   "metadata": {},
   "outputs": [],
   "source": [
    "train_data_specialized = trainData[trainData['image_path'].str.contains(specialization)][::10]\n",
    "train_data_specialized['image_path'] = train_data_specialized['image_path'].\\\n",
    "    map(lambda x: x.lstrip(specialization+'_image/'))\n"
   ]
  },
  {
   "cell_type": "code",
   "execution_count": 10,
   "metadata": {},
   "outputs": [],
   "source": [
    "validation_data_specialized = trainData[trainData['image_path'].str.contains(specialization)][::100]\n",
    "validation_data_specialized['image_path'] = validation_data_specialized['image_path'].\\\n",
    "    map(lambda x: x.lstrip(specialization+'_image/'))\n",
    "\n"
   ]
  },
  {
   "cell_type": "code",
   "execution_count": 63,
   "metadata": {},
   "outputs": [
    {
     "name": "stderr",
     "output_type": "stream",
     "text": [
      "C:\\Users\\Hans Tananda\\.virtualenvs\\ndsc-beginner\\lib\\site-packages\\ipykernel_launcher.py:2: SettingWithCopyWarning: \n",
      "A value is trying to be set on a copy of a slice from a DataFrame.\n",
      "Try using .loc[row_indexer,col_indexer] = value instead\n",
      "\n",
      "See the caveats in the documentation: http://pandas.pydata.org/pandas-docs/stable/indexing.html#indexing-view-versus-copy\n",
      "  \n"
     ]
    }
   ],
   "source": [
    "test_data_specialized = testData[testData['image_path'].str.contains(specialization)]\n",
    "test_data_specialized['image_path'] = test_data_specialized['image_path'].\\\n",
    "    map(lambda x: x.lstrip(specialization+'_image/'))\n"
   ]
  },
  {
   "cell_type": "code",
   "execution_count": 69,
   "metadata": {},
   "outputs": [
    {
     "data": {
      "text/html": [
       "<div>\n",
       "<style scoped>\n",
       "    .dataframe tbody tr th:only-of-type {\n",
       "        vertical-align: middle;\n",
       "    }\n",
       "\n",
       "    .dataframe tbody tr th {\n",
       "        vertical-align: top;\n",
       "    }\n",
       "\n",
       "    .dataframe thead th {\n",
       "        text-align: right;\n",
       "    }\n",
       "</style>\n",
       "<table border=\"1\" class=\"dataframe\">\n",
       "  <thead>\n",
       "    <tr style=\"text-align: right;\">\n",
       "      <th></th>\n",
       "      <th>itemid</th>\n",
       "      <th>title</th>\n",
       "      <th>image_path</th>\n",
       "    </tr>\n",
       "  </thead>\n",
       "  <tbody>\n",
       "    <tr>\n",
       "      <th>0</th>\n",
       "      <td>370855998</td>\n",
       "      <td>flormar   white cream bb spf      ml</td>\n",
       "      <td>1588591395c5a254bab84042005f2a9f.jpg</td>\n",
       "    </tr>\n",
       "    <tr>\n",
       "      <th>1</th>\n",
       "      <td>637234604</td>\n",
       "      <td>maybelline clear smooth all in one bb cream sp...</td>\n",
       "      <td>920985ed9587ea20f58686ea74e20f93.jpg</td>\n",
       "    </tr>\n",
       "    <tr>\n",
       "      <th>2</th>\n",
       "      <td>690282890</td>\n",
       "      <td>murah innisfree eco natural green tea bb cream...</td>\n",
       "      <td>90b40e5710f54352b243fcfb0f5d1d7f.jpg</td>\n",
       "    </tr>\n",
       "    <tr>\n",
       "      <th>3</th>\n",
       "      <td>930913462</td>\n",
       "      <td>loreal white perfect day cream spf    pa white...</td>\n",
       "      <td>289c668ef3d70e1d929d602d52d5d78a.jpg</td>\n",
       "    </tr>\n",
       "    <tr>\n",
       "      <th>4</th>\n",
       "      <td>1039280071</td>\n",
       "      <td>hada labo cc cream ultimate anti aging spf    ...</td>\n",
       "      <td>d5b3e652c5822d2306f4560488ec30c6.jpg</td>\n",
       "    </tr>\n",
       "    <tr>\n",
       "      <th>5</th>\n",
       "      <td>1327710392</td>\n",
       "      <td>cathy doll cc speed white powder pact spf    o...</td>\n",
       "      <td>1e50828d5594721a7d5d5c1ff78afbd.jpg</td>\n",
       "    </tr>\n",
       "    <tr>\n",
       "      <th>6</th>\n",
       "      <td>1328802799</td>\n",
       "      <td>safi white natural brightening cream   g</td>\n",
       "      <td>97ec852d5afc5d82ac02b80083cf292f.jpg</td>\n",
       "    </tr>\n",
       "    <tr>\n",
       "      <th>7</th>\n",
       "      <td>1330468145</td>\n",
       "      <td>light beige    bioaqua bb cushion exquisite de...</td>\n",
       "      <td>8ce1a5fe546f0cc795329bad599a8d5a.jpg</td>\n",
       "    </tr>\n",
       "    <tr>\n",
       "      <th>8</th>\n",
       "      <td>1677309730</td>\n",
       "      <td>new produk missha m perfect bb cream share in ...</td>\n",
       "      <td>755fcc85c687e8cb53d2a8d43ebfe251.jpg</td>\n",
       "    </tr>\n",
       "    <tr>\n",
       "      <th>9</th>\n",
       "      <td>1683142205</td>\n",
       "      <td>ready laneige bb cushion anti aging spf    pa</td>\n",
       "      <td>34b56398c099505c650cf2447dc9f21f.jpg</td>\n",
       "    </tr>\n",
       "    <tr>\n",
       "      <th>10</th>\n",
       "      <td>1704308849</td>\n",
       "      <td>terupdate laneige bb cushion anti aging spf   ...</td>\n",
       "      <td>14e877565dc242ef23a5e9ceed761f43.jpg</td>\n",
       "    </tr>\n",
       "    <tr>\n",
       "      <th>11</th>\n",
       "      <td>1736407742</td>\n",
       "      <td>new collection bioaqua cushion blush on smooth...</td>\n",
       "      <td>9e715ef52b874031ef9c89596c605a77.jpg</td>\n",
       "    </tr>\n",
       "    <tr>\n",
       "      <th>12</th>\n",
       "      <td>1747613934</td>\n",
       "      <td>blp beauty face powder light beige preloved li...</td>\n",
       "      <td>6596cee7f70fd5de062cc964b2ae0ff3.jpg</td>\n",
       "    </tr>\n",
       "    <tr>\n",
       "      <th>13</th>\n",
       "      <td>1793784525</td>\n",
       "      <td>big discount set garnier sakura white pinkish ...</td>\n",
       "      <td>836486176dd903cf07425ff71ad797.jpg</td>\n",
       "    </tr>\n",
       "    <tr>\n",
       "      <th>14</th>\n",
       "      <td>300165176</td>\n",
       "      <td>the saem eco soul spau bb stick   g    natural...</td>\n",
       "      <td>74b36adc0d6da15acf9ddb427ec39431.jpg</td>\n",
       "    </tr>\n",
       "    <tr>\n",
       "      <th>15</th>\n",
       "      <td>318893351</td>\n",
       "      <td>dear klairs illuminating supple blemish cream ...</td>\n",
       "      <td>633b9ea51b7c8266c6d1aa52f6bf83ca.jpg</td>\n",
       "    </tr>\n",
       "    <tr>\n",
       "      <th>16</th>\n",
       "      <td>470655865</td>\n",
       "      <td>theraskin loose powder kn bedak tabur kuning n...</td>\n",
       "      <td>668905ce831fe9ea946b55117d7679e6.jpg</td>\n",
       "    </tr>\n",
       "    <tr>\n",
       "      <th>17</th>\n",
       "      <td>580992667</td>\n",
       "      <td>laneige water glow base corrector spf      col...</td>\n",
       "      <td>d00a3588c94a63dffedf6978d5a7cb39.jpg</td>\n",
       "    </tr>\n",
       "    <tr>\n",
       "      <th>18</th>\n",
       "      <td>661957090</td>\n",
       "      <td>terbaru chanel cc cream complete correction sp...</td>\n",
       "      <td>f42a59df3aaa75cc1b5bb3356d759da6.jpg</td>\n",
       "    </tr>\n",
       "    <tr>\n",
       "      <th>19</th>\n",
       "      <td>728370998</td>\n",
       "      <td>compact powder viva kuning langsat pengantin n...</td>\n",
       "      <td>2e3487c251f127f59ffb8b0e7079ad2.jpg</td>\n",
       "    </tr>\n",
       "    <tr>\n",
       "      <th>20</th>\n",
       "      <td>1260578917</td>\n",
       "      <td>gudetama holika face powder in shade    natura...</td>\n",
       "      <td>202d01c2bbcc56038c1051ebd5cd239e.jpg</td>\n",
       "    </tr>\n",
       "    <tr>\n",
       "      <th>21</th>\n",
       "      <td>1399470755</td>\n",
       "      <td>envygreen natural acne powder   g</td>\n",
       "      <td>03f17fe433bb161a7e36023ac2b311c7.jpg</td>\n",
       "    </tr>\n",
       "    <tr>\n",
       "      <th>22</th>\n",
       "      <td>1409474454</td>\n",
       "      <td>sale olay white radiance intensive whitening c...</td>\n",
       "      <td>4e8ce137b2544cc1caf5dcaec9386e6f.jpg</td>\n",
       "    </tr>\n",
       "    <tr>\n",
       "      <th>23</th>\n",
       "      <td>1555896544</td>\n",
       "      <td>laneige refill bb cushion anti aging spf    pa...</td>\n",
       "      <td>0f2e4de6c76199a2033b5500df858dee.jpg</td>\n",
       "    </tr>\n",
       "    <tr>\n",
       "      <th>24</th>\n",
       "      <td>1631417975</td>\n",
       "      <td>marcks venus compact powder natural beige bedak</td>\n",
       "      <td>345f61653ccd9c9b8381f22172ea2bb6.jpg</td>\n",
       "    </tr>\n",
       "    <tr>\n",
       "      <th>25</th>\n",
       "      <td>1679201529</td>\n",
       "      <td>refill laneige bb cushion anti aging spf    pa...</td>\n",
       "      <td>7be3fa46c09d40f5722ef46d96787a56.jpg</td>\n",
       "    </tr>\n",
       "    <tr>\n",
       "      <th>26</th>\n",
       "      <td>1728769387</td>\n",
       "      <td>kteg face powder blp light beige  jlv</td>\n",
       "      <td>9c9f86a662e814ffea3136d397272484.jpg</td>\n",
       "    </tr>\n",
       "    <tr>\n",
       "      <th>27</th>\n",
       "      <td>1734623672</td>\n",
       "      <td>terupdate laneige waterbase cc cream spf    pa...</td>\n",
       "      <td>cab4765543d0028e1d5b6c4486af0f20.jpg</td>\n",
       "    </tr>\n",
       "    <tr>\n",
       "      <th>28</th>\n",
       "      <td>1760895527</td>\n",
       "      <td>dr pure white natural lightning cream</td>\n",
       "      <td>0f9a0875b2a9ca0a20de2c7ddd798c8.jpg</td>\n",
       "    </tr>\n",
       "    <tr>\n",
       "      <th>29</th>\n",
       "      <td>1830918439</td>\n",
       "      <td>stock banyak april skin pink cushion for dry o...</td>\n",
       "      <td>24bc91e8840bcb3b62766770e4e34fc1.jpg</td>\n",
       "    </tr>\n",
       "    <tr>\n",
       "      <th>...</th>\n",
       "      <td>...</td>\n",
       "      <td>...</td>\n",
       "      <td>...</td>\n",
       "    </tr>\n",
       "    <tr>\n",
       "      <th>76515</th>\n",
       "      <td>1782786883</td>\n",
       "      <td>natural lip nourishing essential oil moisturiz...</td>\n",
       "      <td>f477e8b8be8cc128c7a129ed7823fddc.jpg</td>\n",
       "    </tr>\n",
       "    <tr>\n",
       "      <th>76516</th>\n",
       "      <td>1783391715</td>\n",
       "      <td>novo lipstick pelembab tahan lama     liquid</td>\n",
       "      <td>c57ebf4b3897036aba723f6f3cf544ae.jpg</td>\n",
       "    </tr>\n",
       "    <tr>\n",
       "      <th>76517</th>\n",
       "      <td>1786798701</td>\n",
       "      <td>lip cream implora</td>\n",
       "      <td>173c0aa6e8263bb272810e292e86afc8.jpg</td>\n",
       "    </tr>\n",
       "    <tr>\n",
       "      <th>76518</th>\n",
       "      <td>1787316578</td>\n",
       "      <td>new produk the balm meet matt e hughes mini ki...</td>\n",
       "      <td>904802c7218cc78526cc27c2faaa700.jpg</td>\n",
       "    </tr>\n",
       "    <tr>\n",
       "      <th>76519</th>\n",
       "      <td>1787632638</td>\n",
       "      <td>produk termurah blistex medicated lip balm spf...</td>\n",
       "      <td>3ec93b571425447543ad717fdd90daa6.jpg</td>\n",
       "    </tr>\n",
       "    <tr>\n",
       "      <th>76520</th>\n",
       "      <td>1788718999</td>\n",
       "      <td>diskon termurah fran wilson moodmatcher origin...</td>\n",
       "      <td>9106b1f304a0ccccdeb012b8183c9182.jpg</td>\n",
       "    </tr>\n",
       "    <tr>\n",
       "      <th>76521</th>\n",
       "      <td>1789804544</td>\n",
       "      <td>tony moly delight tint    apple red</td>\n",
       "      <td>8eb23ac8ac02ffef5529b5dd6ee2aace.jpg</td>\n",
       "    </tr>\n",
       "    <tr>\n",
       "      <th>76522</th>\n",
       "      <td>1793720209</td>\n",
       "      <td>nars lip cream matte  in</td>\n",
       "      <td>57c91f655f03c2b8c35b49a183baf43.jpg</td>\n",
       "    </tr>\n",
       "    <tr>\n",
       "      <th>76523</th>\n",
       "      <td>1794583570</td>\n",
       "      <td>lipstik pensil bibir lip color care  ce mini m...</td>\n",
       "      <td>fc0404f84b7ef45a378bd65cfe8c8e01.jpg</td>\n",
       "    </tr>\n",
       "    <tr>\n",
       "      <th>76524</th>\n",
       "      <td>1795462556</td>\n",
       "      <td>wardah exclusive matte lip cream    berry pret...</td>\n",
       "      <td>d96c8af4b1c103149c1fc20e51d240dd.jpg</td>\n",
       "    </tr>\n",
       "    <tr>\n",
       "      <th>76525</th>\n",
       "      <td>1804494348</td>\n",
       "      <td>diskon terbatas apieu water light tint termurah</td>\n",
       "      <td>4b799a57e3c1ca49633bbd31e1912128.jpg</td>\n",
       "    </tr>\n",
       "    <tr>\n",
       "      <th>76526</th>\n",
       "      <td>1806226561</td>\n",
       "      <td>produk terlaris revlon colorburst matte lip ba...</td>\n",
       "      <td>7f2034c059e3db4989f8203fc29fe389.jpg</td>\n",
       "    </tr>\n",
       "    <tr>\n",
       "      <th>76527</th>\n",
       "      <td>1810849405</td>\n",
       "      <td>maybelline baby lips candy wow lip balm availa...</td>\n",
       "      <td>3f4f5fcfd3d3d049a1d46bb1bd994725.jpg</td>\n",
       "    </tr>\n",
       "    <tr>\n",
       "      <th>76528</th>\n",
       "      <td>1811176817</td>\n",
       "      <td>lipstik kailijumei flower jelly lipstick bunga...</td>\n",
       "      <td>95f53761f01df4b1592fbce39520136d.jpg</td>\n",
       "    </tr>\n",
       "    <tr>\n",
       "      <th>76529</th>\n",
       "      <td>1811673680</td>\n",
       "      <td>tahan lama lipstik effortless   in   velvet mu...</td>\n",
       "      <td>f0c12d5eaf932b74697713b3b0616eb.jpg</td>\n",
       "    </tr>\n",
       "    <tr>\n",
       "      <th>76530</th>\n",
       "      <td>1811889388</td>\n",
       "      <td>paling dicari lip tint kiss beauty milk milky ...</td>\n",
       "      <td>14130ba7fcc7fda3950d3b476a0bb08d.jpg</td>\n",
       "    </tr>\n",
       "    <tr>\n",
       "      <th>76531</th>\n",
       "      <td>1812100249</td>\n",
       "      <td>bigsale lipstik laneige two tone lip bar no   ...</td>\n",
       "      <td>7f39e0f31bebc44fd986388fe636cab0.jpg</td>\n",
       "    </tr>\n",
       "    <tr>\n",
       "      <th>76532</th>\n",
       "      <td>1813046604</td>\n",
       "      <td>preloved lipstick matte purbasari shade    rose</td>\n",
       "      <td>13c96f9395618f7dcd0ae358dd6a5e77.jpg</td>\n",
       "    </tr>\n",
       "    <tr>\n",
       "      <th>76533</th>\n",
       "      <td>1813629660</td>\n",
       "      <td>silkygirl long wearing lipliner rose</td>\n",
       "      <td>085aac9dfdb5b0ef5dfb4982460ad6af.jpg</td>\n",
       "    </tr>\n",
       "    <tr>\n",
       "      <th>76534</th>\n",
       "      <td>1815101480</td>\n",
       "      <td>spot nyx lip gloss lipstik matte tahan lama</td>\n",
       "      <td>17a3966e4099534d428318e875cb1ce8.jpg</td>\n",
       "    </tr>\n",
       "    <tr>\n",
       "      <th>76535</th>\n",
       "      <td>1818918983</td>\n",
       "      <td>preloved peripera airy ink velvet   sold out red</td>\n",
       "      <td>0903037dfef9f96a20fb1e9afea84142.jpg</td>\n",
       "    </tr>\n",
       "    <tr>\n",
       "      <th>76536</th>\n",
       "      <td>1819459292</td>\n",
       "      <td>wardah everyday cheek liptint    pink on point</td>\n",
       "      <td>49c4d600d8fa50b031b33a020905c7ae.jpg</td>\n",
       "    </tr>\n",
       "    <tr>\n",
       "      <th>76537</th>\n",
       "      <td>1821997730</td>\n",
       "      <td>lip balm love nature oriflame</td>\n",
       "      <td>1c01c171d7dcba23767eaceed0618970.jpg</td>\n",
       "    </tr>\n",
       "    <tr>\n",
       "      <th>76538</th>\n",
       "      <td>1823139406</td>\n",
       "      <td>promo nivea made in germany hydro care lip bal...</td>\n",
       "      <td>1259bddfe71932d34c503d12269b3dc8.jpg</td>\n",
       "    </tr>\n",
       "    <tr>\n",
       "      <th>76539</th>\n",
       "      <td>1824884851</td>\n",
       "      <td>makeover liquid lip color</td>\n",
       "      <td>4f765ab4f320eccb1dc60fa540d6db4.jpg</td>\n",
       "    </tr>\n",
       "    <tr>\n",
       "      <th>76540</th>\n",
       "      <td>1826670507</td>\n",
       "      <td>lip cream wardah</td>\n",
       "      <td>5910b3379e4ad845a7be914b6cb02527.jpg</td>\n",
       "    </tr>\n",
       "    <tr>\n",
       "      <th>76541</th>\n",
       "      <td>1832111687</td>\n",
       "      <td>la tulipe stay matte lip cream</td>\n",
       "      <td>8022625c508a528dbd6c90869a0bc2a.jpg</td>\n",
       "    </tr>\n",
       "    <tr>\n",
       "      <th>76542</th>\n",
       "      <td>1832269907</td>\n",
       "      <td>etude house berry delicious color in liquid li...</td>\n",
       "      <td>3af512eb5a3c8b0632d787110bcb796b.jpg</td>\n",
       "    </tr>\n",
       "    <tr>\n",
       "      <th>76543</th>\n",
       "      <td>1832929407</td>\n",
       "      <td>goban matte liquid lipstick</td>\n",
       "      <td>07d7b1400f51a09260040143b969306.jpg</td>\n",
       "    </tr>\n",
       "    <tr>\n",
       "      <th>76544</th>\n",
       "      <td>1833165562</td>\n",
       "      <td>nivea lip balm</td>\n",
       "      <td>d592906ac8f906bc36664e906f635619.jpg</td>\n",
       "    </tr>\n",
       "  </tbody>\n",
       "</table>\n",
       "<p>76545 rows × 3 columns</p>\n",
       "</div>"
      ],
      "text/plain": [
       "           itemid                                              title  \\\n",
       "0       370855998               flormar   white cream bb spf      ml   \n",
       "1       637234604  maybelline clear smooth all in one bb cream sp...   \n",
       "2       690282890  murah innisfree eco natural green tea bb cream...   \n",
       "3       930913462  loreal white perfect day cream spf    pa white...   \n",
       "4      1039280071  hada labo cc cream ultimate anti aging spf    ...   \n",
       "5      1327710392  cathy doll cc speed white powder pact spf    o...   \n",
       "6      1328802799           safi white natural brightening cream   g   \n",
       "7      1330468145  light beige    bioaqua bb cushion exquisite de...   \n",
       "8      1677309730  new produk missha m perfect bb cream share in ...   \n",
       "9      1683142205      ready laneige bb cushion anti aging spf    pa   \n",
       "10     1704308849  terupdate laneige bb cushion anti aging spf   ...   \n",
       "11     1736407742  new collection bioaqua cushion blush on smooth...   \n",
       "12     1747613934  blp beauty face powder light beige preloved li...   \n",
       "13     1793784525  big discount set garnier sakura white pinkish ...   \n",
       "14      300165176  the saem eco soul spau bb stick   g    natural...   \n",
       "15      318893351  dear klairs illuminating supple blemish cream ...   \n",
       "16      470655865  theraskin loose powder kn bedak tabur kuning n...   \n",
       "17      580992667  laneige water glow base corrector spf      col...   \n",
       "18      661957090  terbaru chanel cc cream complete correction sp...   \n",
       "19      728370998  compact powder viva kuning langsat pengantin n...   \n",
       "20     1260578917  gudetama holika face powder in shade    natura...   \n",
       "21     1399470755                  envygreen natural acne powder   g   \n",
       "22     1409474454  sale olay white radiance intensive whitening c...   \n",
       "23     1555896544  laneige refill bb cushion anti aging spf    pa...   \n",
       "24     1631417975    marcks venus compact powder natural beige bedak   \n",
       "25     1679201529  refill laneige bb cushion anti aging spf    pa...   \n",
       "26     1728769387              kteg face powder blp light beige  jlv   \n",
       "27     1734623672  terupdate laneige waterbase cc cream spf    pa...   \n",
       "28     1760895527              dr pure white natural lightning cream   \n",
       "29     1830918439  stock banyak april skin pink cushion for dry o...   \n",
       "...           ...                                                ...   \n",
       "76515  1782786883  natural lip nourishing essential oil moisturiz...   \n",
       "76516  1783391715       novo lipstick pelembab tahan lama     liquid   \n",
       "76517  1786798701                                  lip cream implora   \n",
       "76518  1787316578  new produk the balm meet matt e hughes mini ki...   \n",
       "76519  1787632638  produk termurah blistex medicated lip balm spf...   \n",
       "76520  1788718999  diskon termurah fran wilson moodmatcher origin...   \n",
       "76521  1789804544                tony moly delight tint    apple red   \n",
       "76522  1793720209                          nars lip cream matte  in    \n",
       "76523  1794583570  lipstik pensil bibir lip color care  ce mini m...   \n",
       "76524  1795462556  wardah exclusive matte lip cream    berry pret...   \n",
       "76525  1804494348    diskon terbatas apieu water light tint termurah   \n",
       "76526  1806226561  produk terlaris revlon colorburst matte lip ba...   \n",
       "76527  1810849405  maybelline baby lips candy wow lip balm availa...   \n",
       "76528  1811176817  lipstik kailijumei flower jelly lipstick bunga...   \n",
       "76529  1811673680  tahan lama lipstik effortless   in   velvet mu...   \n",
       "76530  1811889388  paling dicari lip tint kiss beauty milk milky ...   \n",
       "76531  1812100249  bigsale lipstik laneige two tone lip bar no   ...   \n",
       "76532  1813046604    preloved lipstick matte purbasari shade    rose   \n",
       "76533  1813629660               silkygirl long wearing lipliner rose   \n",
       "76534  1815101480        spot nyx lip gloss lipstik matte tahan lama   \n",
       "76535  1818918983   preloved peripera airy ink velvet   sold out red   \n",
       "76536  1819459292     wardah everyday cheek liptint    pink on point   \n",
       "76537  1821997730                      lip balm love nature oriflame   \n",
       "76538  1823139406  promo nivea made in germany hydro care lip bal...   \n",
       "76539  1824884851                          makeover liquid lip color   \n",
       "76540  1826670507                                   lip cream wardah   \n",
       "76541  1832111687                  la tulipe stay matte lip cream      \n",
       "76542  1832269907  etude house berry delicious color in liquid li...   \n",
       "76543  1832929407                        goban matte liquid lipstick   \n",
       "76544  1833165562                                     nivea lip balm   \n",
       "\n",
       "                                 image_path  \n",
       "0      1588591395c5a254bab84042005f2a9f.jpg  \n",
       "1      920985ed9587ea20f58686ea74e20f93.jpg  \n",
       "2      90b40e5710f54352b243fcfb0f5d1d7f.jpg  \n",
       "3      289c668ef3d70e1d929d602d52d5d78a.jpg  \n",
       "4      d5b3e652c5822d2306f4560488ec30c6.jpg  \n",
       "5       1e50828d5594721a7d5d5c1ff78afbd.jpg  \n",
       "6      97ec852d5afc5d82ac02b80083cf292f.jpg  \n",
       "7      8ce1a5fe546f0cc795329bad599a8d5a.jpg  \n",
       "8      755fcc85c687e8cb53d2a8d43ebfe251.jpg  \n",
       "9      34b56398c099505c650cf2447dc9f21f.jpg  \n",
       "10     14e877565dc242ef23a5e9ceed761f43.jpg  \n",
       "11     9e715ef52b874031ef9c89596c605a77.jpg  \n",
       "12     6596cee7f70fd5de062cc964b2ae0ff3.jpg  \n",
       "13       836486176dd903cf07425ff71ad797.jpg  \n",
       "14     74b36adc0d6da15acf9ddb427ec39431.jpg  \n",
       "15     633b9ea51b7c8266c6d1aa52f6bf83ca.jpg  \n",
       "16     668905ce831fe9ea946b55117d7679e6.jpg  \n",
       "17     d00a3588c94a63dffedf6978d5a7cb39.jpg  \n",
       "18     f42a59df3aaa75cc1b5bb3356d759da6.jpg  \n",
       "19      2e3487c251f127f59ffb8b0e7079ad2.jpg  \n",
       "20     202d01c2bbcc56038c1051ebd5cd239e.jpg  \n",
       "21     03f17fe433bb161a7e36023ac2b311c7.jpg  \n",
       "22     4e8ce137b2544cc1caf5dcaec9386e6f.jpg  \n",
       "23     0f2e4de6c76199a2033b5500df858dee.jpg  \n",
       "24     345f61653ccd9c9b8381f22172ea2bb6.jpg  \n",
       "25     7be3fa46c09d40f5722ef46d96787a56.jpg  \n",
       "26     9c9f86a662e814ffea3136d397272484.jpg  \n",
       "27     cab4765543d0028e1d5b6c4486af0f20.jpg  \n",
       "28      0f9a0875b2a9ca0a20de2c7ddd798c8.jpg  \n",
       "29     24bc91e8840bcb3b62766770e4e34fc1.jpg  \n",
       "...                                     ...  \n",
       "76515  f477e8b8be8cc128c7a129ed7823fddc.jpg  \n",
       "76516  c57ebf4b3897036aba723f6f3cf544ae.jpg  \n",
       "76517  173c0aa6e8263bb272810e292e86afc8.jpg  \n",
       "76518   904802c7218cc78526cc27c2faaa700.jpg  \n",
       "76519  3ec93b571425447543ad717fdd90daa6.jpg  \n",
       "76520  9106b1f304a0ccccdeb012b8183c9182.jpg  \n",
       "76521  8eb23ac8ac02ffef5529b5dd6ee2aace.jpg  \n",
       "76522   57c91f655f03c2b8c35b49a183baf43.jpg  \n",
       "76523  fc0404f84b7ef45a378bd65cfe8c8e01.jpg  \n",
       "76524  d96c8af4b1c103149c1fc20e51d240dd.jpg  \n",
       "76525  4b799a57e3c1ca49633bbd31e1912128.jpg  \n",
       "76526  7f2034c059e3db4989f8203fc29fe389.jpg  \n",
       "76527  3f4f5fcfd3d3d049a1d46bb1bd994725.jpg  \n",
       "76528  95f53761f01df4b1592fbce39520136d.jpg  \n",
       "76529   f0c12d5eaf932b74697713b3b0616eb.jpg  \n",
       "76530  14130ba7fcc7fda3950d3b476a0bb08d.jpg  \n",
       "76531  7f39e0f31bebc44fd986388fe636cab0.jpg  \n",
       "76532  13c96f9395618f7dcd0ae358dd6a5e77.jpg  \n",
       "76533  085aac9dfdb5b0ef5dfb4982460ad6af.jpg  \n",
       "76534  17a3966e4099534d428318e875cb1ce8.jpg  \n",
       "76535  0903037dfef9f96a20fb1e9afea84142.jpg  \n",
       "76536  49c4d600d8fa50b031b33a020905c7ae.jpg  \n",
       "76537  1c01c171d7dcba23767eaceed0618970.jpg  \n",
       "76538  1259bddfe71932d34c503d12269b3dc8.jpg  \n",
       "76539   4f765ab4f320eccb1dc60fa540d6db4.jpg  \n",
       "76540  5910b3379e4ad845a7be914b6cb02527.jpg  \n",
       "76541   8022625c508a528dbd6c90869a0bc2a.jpg  \n",
       "76542  3af512eb5a3c8b0632d787110bcb796b.jpg  \n",
       "76543   07d7b1400f51a09260040143b969306.jpg  \n",
       "76544  d592906ac8f906bc36664e906f635619.jpg  \n",
       "\n",
       "[76545 rows x 3 columns]"
      ]
     },
     "execution_count": 69,
     "metadata": {},
     "output_type": "execute_result"
    }
   ],
   "source": [
    "test_data_specialized"
   ]
  },
  {
   "cell_type": "code",
   "execution_count": 64,
   "metadata": {},
   "outputs": [
    {
     "name": "stdout",
     "output_type": "stream",
     "text": [
      "(76545, 3)\n"
     ]
    }
   ],
   "source": [
    "print(test_data_specialized.shape)"
   ]
  },
  {
   "cell_type": "code",
   "execution_count": 54,
   "metadata": {},
   "outputs": [],
   "source": [
    "categories_specialized = {k.lower(): v for k, v in categories[specialization.capitalize()].items()}\n"
   ]
  },
  {
   "cell_type": "code",
   "execution_count": 55,
   "metadata": {},
   "outputs": [
    {
     "data": {
      "text/plain": [
       "{'bb & cc cream': 5,\n",
       " 'blush on': 2,\n",
       " 'bronzer': 11,\n",
       " 'concealer': 7,\n",
       " 'contour': 6,\n",
       " 'face palette': 0,\n",
       " 'foundation': 1,\n",
       " 'highlighter': 8,\n",
       " 'lip gloss': 14,\n",
       " 'lip liner': 15,\n",
       " 'lip tint': 13,\n",
       " 'lipstick': 12,\n",
       " 'other face cosmetics': 4,\n",
       " 'other lip cosmetics': 16,\n",
       " 'powder': 3,\n",
       " 'primer': 9,\n",
       " 'setting spray': 10}"
      ]
     },
     "execution_count": 55,
     "metadata": {},
     "output_type": "execute_result"
    }
   ],
   "source": [
    "categories_specialized"
   ]
  },
  {
   "cell_type": "code",
   "execution_count": 14,
   "metadata": {},
   "outputs": [
    {
     "name": "stdout",
     "output_type": "stream",
     "text": [
      "INFO:tensorflow:Using C:\\Users\\HANSTA~1\\AppData\\Local\\Temp\\tfhub_modules to cache modules.\n"
     ]
    }
   ],
   "source": [
    "IMAGE_SIZE = hub.get_expected_image_size(hub.Module(feature_extractor_url))\n"
   ]
  },
  {
   "cell_type": "code",
   "execution_count": 15,
   "metadata": {},
   "outputs": [
    {
     "name": "stdout",
     "output_type": "stream",
     "text": [
      "Found 23209 images belonging to 17 classes.\n"
     ]
    }
   ],
   "source": [
    "image_generator = datagen.flow_from_dataframe(train_data_specialized,\n",
    "                                              directory=os.path.join(data_root),\n",
    "                                              x_col=\"image_path\",\n",
    "                                              y_col=\"item_category\",\n",
    "                                              target_size=IMAGE_SIZE,\n",
    "                                              color_mode=\"rgb\",\n",
    "                                              class_mode=\"categorical\",\n",
    "                                              shuffle=True,\n",
    "                                              batch_size=64,\n",
    "                                              )"
   ]
  },
  {
   "cell_type": "code",
   "execution_count": 16,
   "metadata": {},
   "outputs": [
    {
     "name": "stdout",
     "output_type": "stream",
     "text": [
      "Found 2332 images belonging to 17 classes.\n"
     ]
    }
   ],
   "source": [
    "valid_generator = valid_datagen.flow_from_dataframe(validation_data_specialized,\n",
    "                                                    directory=os.path.join(data_root),\n",
    "                                                    x_col=\"image_path\",\n",
    "                                                    y_col=\"item_category\",\n",
    "                                                    target_size=IMAGE_SIZE,\n",
    "                                                    color_mode=\"rgb\",\n",
    "                                                    class_mode=\"categorical\",\n",
    "                                                    shuffle=True,\n",
    "                                                    batch_size=64,\n",
    "                                                    )"
   ]
  },
  {
   "cell_type": "code",
   "execution_count": 65,
   "metadata": {},
   "outputs": [
    {
     "name": "stdout",
     "output_type": "stream",
     "text": [
      "Found 62059 images.\n"
     ]
    }
   ],
   "source": [
    "test_generator = test_datagen.flow_from_dataframe(test_data_specialized,\n",
    "                                                   directory=os.path.join(data_root),\n",
    "                                                   x_col=\"image_path\",\n",
    "                                                  y_col=None,\n",
    "                                                  class_mode=None,\n",
    "                                                  shuffle=False,\n",
    "                                                   target_size=IMAGE_SIZE,\n",
    "                                                   color_mode=\"rgb\",\n",
    "                                                   batch_size=64,\n",
    "                                                   )"
   ]
  },
  {
   "cell_type": "code",
   "execution_count": 35,
   "metadata": {},
   "outputs": [],
   "source": [
    "label_names = sorted(image_generator.class_indices.items(), key=lambda pair:pair[1])\n",
    "label_names = np.array([key.title() for key, value in label_names])\n"
   ]
  },
  {
   "cell_type": "code",
   "execution_count": 36,
   "metadata": {},
   "outputs": [],
   "source": [
    "def feature_extractor(x):\n",
    "    feature_extractor_module = hub.Module(feature_extractor_url)\n",
    "    return feature_extractor_module(x)"
   ]
  },
  {
   "cell_type": "code",
   "execution_count": 37,
   "metadata": {},
   "outputs": [
    {
     "name": "stdout",
     "output_type": "stream",
     "text": [
      "INFO:tensorflow:Saver not created because there are no variables in the graph to restore\n",
      "INFO:tensorflow:Saver not created because there are no variables in the graph to restore\n",
      "_________________________________________________________________\n",
      "Layer (type)                 Output Shape              Param #   \n",
      "=================================================================\n",
      "lambda_1 (Lambda)            (None, 1280)              0         \n",
      "_________________________________________________________________\n",
      "dense_1 (Dense)              (None, 17)                21777     \n",
      "=================================================================\n",
      "Total params: 21,777\n",
      "Trainable params: 21,777\n",
      "Non-trainable params: 0\n",
      "_________________________________________________________________\n"
     ]
    }
   ],
   "source": [
    "model = Sequential()\n",
    "model.add(Lambda(feature_extractor, input_shape=IMAGE_SIZE+[3], trainable=True))\n",
    "model.add(Dense(len(categories_specialized), activation='softmax'))\n",
    "model.compile(optimizer='adam',\n",
    "              loss='categorical_crossentropy',\n",
    "              metrics=['accuracy'])\n",
    "model.summary()\n"
   ]
  },
  {
   "cell_type": "code",
   "execution_count": 38,
   "metadata": {
    "scrolled": true
   },
   "outputs": [],
   "source": [
    "def gen_filename_h5():\n",
    "    return 'epoch_'+str(epochs) + '_' + datetime.now().strftime(\"%m_%d_%Y_%H_%M_%S\")\n"
   ]
  },
  {
   "cell_type": "code",
   "execution_count": 67,
   "metadata": {},
   "outputs": [],
   "source": [
    "def gen_filename_csv():\n",
    "    return 'epoch_'+str(epochs) + '_' + str(max_words) + '_' + datetime.now().strftime(\"%m_%d_%Y_%H_%M_%S\")\n",
    "\n"
   ]
  },
  {
   "cell_type": "code",
   "execution_count": 39,
   "metadata": {},
   "outputs": [],
   "source": [
    "filepath = \"../checkpoints/\"+gen_filename_h5()+\"v2.hdf5\"\n",
    "checkpointer = ModelCheckpoint(filepath, monitor='val_acc', verbose=1, save_best_only=True, mode='max')"
   ]
  },
  {
   "cell_type": "code",
   "execution_count": 50,
   "metadata": {},
   "outputs": [],
   "source": [
    "steps_per_epoch = image_generator.samples//image_generator.batch_size\n",
    "valid_steps_per_epoch = valid_generator.samples // valid_generator.batch_size\n",
    "test_steps_per_epoch = test_generator.samples // test_generator.batch_size"
   ]
  },
  {
   "cell_type": "code",
   "execution_count": 43,
   "metadata": {},
   "outputs": [
    {
     "name": "stdout",
     "output_type": "stream",
     "text": [
      "Epoch 1/1\n",
      "362/362 [==============================] - 95s 263ms/step - loss: 1.6395 - acc: 0.4854 - val_loss: 1.4611 - val_acc: 0.5428\n",
      "\n",
      "Epoch 00001: val_acc improved from -inf to 0.54277, saving model to ../checkpoints/epoch_25_03_14_2019_00_47_25v2.hdf5\n"
     ]
    }
   ],
   "source": [
    "history = model.fit_generator(generator=image_generator,\n",
    "                    steps_per_epoch=steps_per_epoch,\n",
    "                    validation_data=valid_generator,\n",
    "                    validation_steps=valid_steps_per_epoch,\n",
    "                    epochs=epochs,\n",
    "                    callbacks=[checkpointer],\n",
    "                    )"
   ]
  },
  {
   "cell_type": "code",
   "execution_count": 45,
   "metadata": {},
   "outputs": [],
   "source": [
    "def plot_history(history):\n",
    "    plt.style.use('ggplot')\n",
    "    acc = history.history['acc']\n",
    "    val_acc = history.history['val_acc']\n",
    "    loss = history.history['loss']\n",
    "    val_loss = history.history['val_loss']\n",
    "    x = range(1, len(acc) + 1)\n",
    "\n",
    "    plt.figure(figsize=(12, 5))\n",
    "    plt.subplot(1, 2, 1)\n",
    "    plt.plot(x, acc, 'b', label='Training acc')\n",
    "    plt.plot(x, val_acc, 'r', label='Validation acc')\n",
    "    plt.title('Training and validation accuracy')\n",
    "    plt.legend()\n",
    "    plt.subplot(1, 2, 2)\n",
    "    plt.plot(x, loss, 'b', label='Training loss')\n",
    "    plt.plot(x, val_loss, 'r', label='Validation loss')\n",
    "    plt.title('Training and validation loss')\n",
    "    plt.legend()\n",
    "    plt.show()\n"
   ]
  },
  {
   "cell_type": "code",
   "execution_count": 46,
   "metadata": {},
   "outputs": [],
   "source": [
    "plot_history(history)"
   ]
  },
  {
   "cell_type": "code",
   "execution_count": 51,
   "metadata": {},
   "outputs": [
    {
     "name": "stdout",
     "output_type": "stream",
     "text": [
      "969/969 [==============================] - 364s 376ms/step\n"
     ]
    }
   ],
   "source": [
    "prediction_specialized = model.predict_generator(test_generator, verbose=1, steps = test_steps_per_epoch)\n"
   ]
  },
  {
   "cell_type": "code",
   "execution_count": 59,
   "metadata": {},
   "outputs": [],
   "source": [
    "predicted_label_specialized = [np.argmax(prediction_specialized[i]) for i in range(len(prediction_specialized))]\n"
   ]
  },
  {
   "cell_type": "code",
   "execution_count": 68,
   "metadata": {},
   "outputs": [
    {
     "ename": "ValueError",
     "evalue": "array length 62016 does not match index length 76545",
     "output_type": "error",
     "traceback": [
      "\u001b[0;31m---------------------------------------------------------------------------\u001b[0m",
      "\u001b[0;31mValueError\u001b[0m                                Traceback (most recent call last)",
      "\u001b[0;32m<ipython-input-68-819778f269f4>\u001b[0m in \u001b[0;36m<module>\u001b[0;34m()\u001b[0m\n\u001b[0;32m----> 1\u001b[0;31m \u001b[0mdf\u001b[0m \u001b[0;34m=\u001b[0m \u001b[0mpd\u001b[0m\u001b[0;34m.\u001b[0m\u001b[0mDataFrame\u001b[0m\u001b[0;34m(\u001b[0m\u001b[0;34m{\u001b[0m\u001b[0;34m'itemid'\u001b[0m\u001b[0;34m:\u001b[0m \u001b[0mtest_data_specialized\u001b[0m\u001b[0;34m[\u001b[0m\u001b[0;34m'itemid'\u001b[0m\u001b[0;34m]\u001b[0m\u001b[0;34m.\u001b[0m\u001b[0mastype\u001b[0m\u001b[0;34m(\u001b[0m\u001b[0mint\u001b[0m\u001b[0;34m)\u001b[0m\u001b[0;34m,\u001b[0m \u001b[0;34m'Category'\u001b[0m\u001b[0;34m:\u001b[0m \u001b[0mpredicted_label_specialized\u001b[0m\u001b[0;34m}\u001b[0m\u001b[0;34m)\u001b[0m\u001b[0;34m\u001b[0m\u001b[0m\n\u001b[0m",
      "\u001b[0;32mC:\\Users\\Hans Tananda\\.virtualenvs\\ndsc-beginner\\lib\\site-packages\\pandas\\core\\frame.py\u001b[0m in \u001b[0;36m__init__\u001b[0;34m(self, data, index, columns, dtype, copy)\u001b[0m\n\u001b[1;32m    390\u001b[0m                                  dtype=dtype, copy=copy)\n\u001b[1;32m    391\u001b[0m         \u001b[0;32melif\u001b[0m \u001b[0misinstance\u001b[0m\u001b[0;34m(\u001b[0m\u001b[0mdata\u001b[0m\u001b[0;34m,\u001b[0m \u001b[0mdict\u001b[0m\u001b[0;34m)\u001b[0m\u001b[0;34m:\u001b[0m\u001b[0;34m\u001b[0m\u001b[0m\n\u001b[0;32m--> 392\u001b[0;31m             \u001b[0mmgr\u001b[0m \u001b[0;34m=\u001b[0m \u001b[0minit_dict\u001b[0m\u001b[0;34m(\u001b[0m\u001b[0mdata\u001b[0m\u001b[0;34m,\u001b[0m \u001b[0mindex\u001b[0m\u001b[0;34m,\u001b[0m \u001b[0mcolumns\u001b[0m\u001b[0;34m,\u001b[0m \u001b[0mdtype\u001b[0m\u001b[0;34m=\u001b[0m\u001b[0mdtype\u001b[0m\u001b[0;34m)\u001b[0m\u001b[0;34m\u001b[0m\u001b[0m\n\u001b[0m\u001b[1;32m    393\u001b[0m         \u001b[0;32melif\u001b[0m \u001b[0misinstance\u001b[0m\u001b[0;34m(\u001b[0m\u001b[0mdata\u001b[0m\u001b[0;34m,\u001b[0m \u001b[0mma\u001b[0m\u001b[0;34m.\u001b[0m\u001b[0mMaskedArray\u001b[0m\u001b[0;34m)\u001b[0m\u001b[0;34m:\u001b[0m\u001b[0;34m\u001b[0m\u001b[0m\n\u001b[1;32m    394\u001b[0m             \u001b[0;32mimport\u001b[0m \u001b[0mnumpy\u001b[0m\u001b[0;34m.\u001b[0m\u001b[0mma\u001b[0m\u001b[0;34m.\u001b[0m\u001b[0mmrecords\u001b[0m \u001b[0;32mas\u001b[0m \u001b[0mmrecords\u001b[0m\u001b[0;34m\u001b[0m\u001b[0m\n",
      "\u001b[0;32mC:\\Users\\Hans Tananda\\.virtualenvs\\ndsc-beginner\\lib\\site-packages\\pandas\\core\\internals\\construction.py\u001b[0m in \u001b[0;36minit_dict\u001b[0;34m(data, index, columns, dtype)\u001b[0m\n\u001b[1;32m    210\u001b[0m         \u001b[0marrays\u001b[0m \u001b[0;34m=\u001b[0m \u001b[0;34m[\u001b[0m\u001b[0mdata\u001b[0m\u001b[0;34m[\u001b[0m\u001b[0mk\u001b[0m\u001b[0;34m]\u001b[0m \u001b[0;32mfor\u001b[0m \u001b[0mk\u001b[0m \u001b[0;32min\u001b[0m \u001b[0mkeys\u001b[0m\u001b[0;34m]\u001b[0m\u001b[0;34m\u001b[0m\u001b[0m\n\u001b[1;32m    211\u001b[0m \u001b[0;34m\u001b[0m\u001b[0m\n\u001b[0;32m--> 212\u001b[0;31m     \u001b[0;32mreturn\u001b[0m \u001b[0marrays_to_mgr\u001b[0m\u001b[0;34m(\u001b[0m\u001b[0marrays\u001b[0m\u001b[0;34m,\u001b[0m \u001b[0mdata_names\u001b[0m\u001b[0;34m,\u001b[0m \u001b[0mindex\u001b[0m\u001b[0;34m,\u001b[0m \u001b[0mcolumns\u001b[0m\u001b[0;34m,\u001b[0m \u001b[0mdtype\u001b[0m\u001b[0;34m=\u001b[0m\u001b[0mdtype\u001b[0m\u001b[0;34m)\u001b[0m\u001b[0;34m\u001b[0m\u001b[0m\n\u001b[0m\u001b[1;32m    213\u001b[0m \u001b[0;34m\u001b[0m\u001b[0m\n\u001b[1;32m    214\u001b[0m \u001b[0;34m\u001b[0m\u001b[0m\n",
      "\u001b[0;32mC:\\Users\\Hans Tananda\\.virtualenvs\\ndsc-beginner\\lib\\site-packages\\pandas\\core\\internals\\construction.py\u001b[0m in \u001b[0;36marrays_to_mgr\u001b[0;34m(arrays, arr_names, index, columns, dtype)\u001b[0m\n\u001b[1;32m     49\u001b[0m     \u001b[0;31m# figure out the index, if necessary\u001b[0m\u001b[0;34m\u001b[0m\u001b[0;34m\u001b[0m\u001b[0m\n\u001b[1;32m     50\u001b[0m     \u001b[0;32mif\u001b[0m \u001b[0mindex\u001b[0m \u001b[0;32mis\u001b[0m \u001b[0;32mNone\u001b[0m\u001b[0;34m:\u001b[0m\u001b[0;34m\u001b[0m\u001b[0m\n\u001b[0;32m---> 51\u001b[0;31m         \u001b[0mindex\u001b[0m \u001b[0;34m=\u001b[0m \u001b[0mextract_index\u001b[0m\u001b[0;34m(\u001b[0m\u001b[0marrays\u001b[0m\u001b[0;34m)\u001b[0m\u001b[0;34m\u001b[0m\u001b[0m\n\u001b[0m\u001b[1;32m     52\u001b[0m     \u001b[0;32melse\u001b[0m\u001b[0;34m:\u001b[0m\u001b[0;34m\u001b[0m\u001b[0m\n\u001b[1;32m     53\u001b[0m         \u001b[0mindex\u001b[0m \u001b[0;34m=\u001b[0m \u001b[0mensure_index\u001b[0m\u001b[0;34m(\u001b[0m\u001b[0mindex\u001b[0m\u001b[0;34m)\u001b[0m\u001b[0;34m\u001b[0m\u001b[0m\n",
      "\u001b[0;32mC:\\Users\\Hans Tananda\\.virtualenvs\\ndsc-beginner\\lib\\site-packages\\pandas\\core\\internals\\construction.py\u001b[0m in \u001b[0;36mextract_index\u001b[0;34m(data)\u001b[0m\n\u001b[1;32m    326\u001b[0m                            \u001b[0;34m'length {idx_len}'\u001b[0m\u001b[0;34m\u001b[0m\u001b[0m\n\u001b[1;32m    327\u001b[0m                            .format(length=lengths[0], idx_len=len(index)))\n\u001b[0;32m--> 328\u001b[0;31m                     \u001b[0;32mraise\u001b[0m \u001b[0mValueError\u001b[0m\u001b[0;34m(\u001b[0m\u001b[0mmsg\u001b[0m\u001b[0;34m)\u001b[0m\u001b[0;34m\u001b[0m\u001b[0m\n\u001b[0m\u001b[1;32m    329\u001b[0m             \u001b[0;32melse\u001b[0m\u001b[0;34m:\u001b[0m\u001b[0;34m\u001b[0m\u001b[0m\n\u001b[1;32m    330\u001b[0m                 \u001b[0mindex\u001b[0m \u001b[0;34m=\u001b[0m \u001b[0mibase\u001b[0m\u001b[0;34m.\u001b[0m\u001b[0mdefault_index\u001b[0m\u001b[0;34m(\u001b[0m\u001b[0mlengths\u001b[0m\u001b[0;34m[\u001b[0m\u001b[0;36m0\u001b[0m\u001b[0;34m]\u001b[0m\u001b[0;34m)\u001b[0m\u001b[0;34m\u001b[0m\u001b[0m\n",
      "\u001b[0;31mValueError\u001b[0m: array length 62016 does not match index length 76545"
     ]
    }
   ],
   "source": [
    "df = pd.DataFrame({'itemid': test_data_specialized['itemid'].astype(int), 'Category': predicted_label_specialized})\n"
   ]
  }
 ],
 "metadata": {
  "kernelspec": {
   "display_name": "Python 3",
   "language": "python",
   "name": "python3"
  },
  "language_info": {
   "codemirror_mode": {
    "name": "ipython",
    "version": 3
   },
   "file_extension": ".py",
   "mimetype": "text/x-python",
   "name": "python",
   "nbconvert_exporter": "python",
   "pygments_lexer": "ipython3",
   "version": "3.6.5"
  }
 },
 "nbformat": 4,
 "nbformat_minor": 1
}
