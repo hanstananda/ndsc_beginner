{
 "cells": [
  {
   "cell_type": "code",
   "execution_count": 1,
   "metadata": {},
   "outputs": [
    {
     "name": "stderr",
     "output_type": "stream",
     "text": [
      "Using TensorFlow backend.\n"
     ]
    },
    {
     "name": "stdout",
     "output_type": "stream",
     "text": [
      "{'others mobile & tablet': 35, 'smartfren': 53, 'infinix': 40, 'brandcode': 39, 'icherry': 52, 'advan': 45, 'iphone': 31, 'realme': 51, 'motorola': 49, 'maxtron': 56, 'nokia': 38, 'xiaomi': 34, 'mito': 46, 'sony': 33, 'spc': 57, 'lenovo': 37, 'alcatel': 55, 'samsung': 32, 'vivo': 42, 'evercoss': 44, 'strawberry': 50, 'blackberry': 36, 'asus': 43, 'honor': 54, 'oppo': 41, 'huawei': 47, 'sharp': 48, 'wedding dress': 23, 'shirt': 27, 'casual dress': 18, 'maxi dress': 20, 'big size dress': 24, 'bodycon dress': 22, 'party dress': 19, 'blouse': 26, 'tshirt': 25, 'crop top': 29, 'tanktop': 28, 'others': 17, 'a line dress': 21, 'big size top': 30, 'foundation': 1, 'face palette': 0, 'concealer': 7, 'lip gloss': 14, 'blush on': 2, 'highlighter': 8, 'bb & cc cream': 5, 'other face cosmetics': 4, 'lip tint': 13, 'bronzer': 11, 'lip liner': 15, 'powder': 3, 'setting spray': 10, 'primer': 9, 'contour': 6, 'other lip cosmetics': 16, 'lipstick': 12}\n",
      "no of categories: 58\n",
      "custom train data used\n"
     ]
    }
   ],
   "source": [
    "from datetime import datetime\n",
    "import itertools\n",
    "import json\n",
    "import matplotlib.pyplot as plt\n",
    "import numpy as np\n",
    "import pandas as pd\n",
    "import tensorflow as tf\n",
    "from keras.callbacks import ModelCheckpoint\n",
    "from keras_preprocessing.sequence import pad_sequences\n",
    "from sklearn.feature_extraction.text import CountVectorizer\n",
    "from sklearn.linear_model import LogisticRegression\n",
    "\n",
    "from sklearn.utils import shuffle\n",
    "from sklearn.preprocessing import LabelBinarizer, LabelEncoder\n",
    "from sklearn.metrics import confusion_matrix\n",
    "\n",
    "from tensorflow import keras\n",
    "from keras.models import Sequential\n",
    "from keras.layers import Dense, Activation, Dropout, Embedding, Conv1D, GlobalMaxPooling1D, Flatten, LSTM, \\\n",
    "    Bidirectional, MaxPooling1D\n",
    "from keras.preprocessing import text, sequence\n",
    "from keras import utils\n",
    "import pandas as pd\n",
    "\n",
    "from utility.train_data_loader import load_train_data\n",
    "\n",
    "\n",
    "testData = pd.read_csv(\"../data/test.csv\")\n",
    "dictData = pd.read_csv(\"../data/kata_dasar_kbbi.csv\")\n",
    "categories_file = open(\"../data/categories.json\", \"r\")\n",
    "categories = json.load(categories_file)\n",
    "inverted_categories_mobile = {v: k.lower() for k, v in categories['Mobile'].items()}\n",
    "inverted_categories_fashion = {v: k.lower() for k, v in categories['Fashion'].items()}\n",
    "inverted_categories_beauty = {v: k.lower() for k, v in categories['Beauty'].items()}\n",
    "\n",
    "all_subcategories = {k.lower(): v for k, v in categories['Mobile'].items()}\n",
    "all_subcategories.update({k.lower(): v for k, v in categories['Fashion'].items()})\n",
    "all_subcategories.update({k.lower(): v for k, v in categories['Beauty'].items()})\n",
    "\n",
    "# Main settings\n",
    "plot_history_check = True\n",
    "gen_test = True\n",
    "max_length = 35  # 32 is max word in train\n",
    "max_words = 2500\n",
    "num_classes = len(all_subcategories)\n",
    "# Training for more epochs will likelval-acc after 10 epochs: 0.71306y lead to overfitting on this dataset\n",
    "# You can try tweaking these hyperparamaters when using this model with your own data\n",
    "batch_size = 256\n",
    "epochs = 10\n",
    "\n",
    "print(all_subcategories)\n",
    "print(\"no of categories: \" + str(num_classes))\n",
    "\n",
    "category_mapping = {\n",
    "    'fashion_image': 'Fashion',\n",
    "    'beauty_image': 'Beauty',\n",
    "    'mobile_image': 'Mobile',\n",
    "}\n",
    "directory_mapping = {\n",
    "    'Fashion': 'fashion_image',\n",
    "    'Beauty': 'beauty_image',\n",
    "    'Mobile': 'mobile_image',\n",
    "}\n",
    "\n",
    "trainData = load_train_data()"
   ]
  },
  {
   "cell_type": "code",
   "execution_count": 2,
   "metadata": {},
   "outputs": [
    {
     "data": {
      "text/html": [
       "<div>\n",
       "<style scoped>\n",
       "    .dataframe tbody tr th:only-of-type {\n",
       "        vertical-align: middle;\n",
       "    }\n",
       "\n",
       "    .dataframe tbody tr th {\n",
       "        vertical-align: top;\n",
       "    }\n",
       "\n",
       "    .dataframe thead th {\n",
       "        text-align: right;\n",
       "    }\n",
       "</style>\n",
       "<table border=\"1\" class=\"dataframe\">\n",
       "  <thead>\n",
       "    <tr style=\"text-align: right;\">\n",
       "      <th></th>\n",
       "      <th>itemid</th>\n",
       "      <th>title</th>\n",
       "      <th>Category</th>\n",
       "      <th>image_path</th>\n",
       "      <th>item_category</th>\n",
       "    </tr>\n",
       "  </thead>\n",
       "  <tbody>\n",
       "    <tr>\n",
       "      <th>0</th>\n",
       "      <td>307504</td>\n",
       "      <td>nyx sex bomb pallete natural palette</td>\n",
       "      <td>0</td>\n",
       "      <td>beauty_image/6b2e9cbb279ac95703348368aa65da09.jpg</td>\n",
       "      <td>face palette</td>\n",
       "    </tr>\n",
       "    <tr>\n",
       "      <th>1</th>\n",
       "      <td>461203</td>\n",
       "      <td>etude house precious mineral any cushion pearl...</td>\n",
       "      <td>1</td>\n",
       "      <td>beauty_image/20450222d857c9571ba8fa23bdedc8c9.jpg</td>\n",
       "      <td>foundation</td>\n",
       "    </tr>\n",
       "    <tr>\n",
       "      <th>2</th>\n",
       "      <td>3592295</td>\n",
       "      <td>milani rose powder blush</td>\n",
       "      <td>2</td>\n",
       "      <td>beauty_image/6a5962bed605a3dd6604ca3a4278a4f9.jpg</td>\n",
       "      <td>blush on</td>\n",
       "    </tr>\n",
       "    <tr>\n",
       "      <th>3</th>\n",
       "      <td>4460167</td>\n",
       "      <td>etude house baby sweet sugar powder</td>\n",
       "      <td>3</td>\n",
       "      <td>beauty_image/56987ae186e8a8e71fcc5a261ca485da.jpg</td>\n",
       "      <td>powder</td>\n",
       "    </tr>\n",
       "    <tr>\n",
       "      <th>4</th>\n",
       "      <td>5853995</td>\n",
       "      <td>bedak revlon color stay aqua mineral make up</td>\n",
       "      <td>3</td>\n",
       "      <td>beauty_image/9c6968066ebab57588c2f757a240d8b9.jpg</td>\n",
       "      <td>powder</td>\n",
       "    </tr>\n",
       "  </tbody>\n",
       "</table>\n",
       "</div>"
      ],
      "text/plain": [
       "    itemid                                              title  Category  \\\n",
       "0   307504               nyx sex bomb pallete natural palette         0   \n",
       "1   461203  etude house precious mineral any cushion pearl...         1   \n",
       "2  3592295                           milani rose powder blush         2   \n",
       "3  4460167                etude house baby sweet sugar powder         3   \n",
       "4  5853995       bedak revlon color stay aqua mineral make up         3   \n",
       "\n",
       "                                          image_path item_category  \n",
       "0  beauty_image/6b2e9cbb279ac95703348368aa65da09.jpg  face palette  \n",
       "1  beauty_image/20450222d857c9571ba8fa23bdedc8c9.jpg    foundation  \n",
       "2  beauty_image/6a5962bed605a3dd6604ca3a4278a4f9.jpg      blush on  \n",
       "3  beauty_image/56987ae186e8a8e71fcc5a261ca485da.jpg        powder  \n",
       "4  beauty_image/9c6968066ebab57588c2f757a240d8b9.jpg        powder  "
      ]
     },
     "execution_count": 2,
     "metadata": {},
     "output_type": "execute_result"
    }
   ],
   "source": [
    "trainData.head()\n"
   ]
  },
  {
   "cell_type": "code",
   "execution_count": 3,
   "metadata": {},
   "outputs": [
    {
     "name": "stdout",
     "output_type": "stream",
     "text": [
      "599953 666615\n",
      "599953 599953\n",
      "41597\n"
     ]
    }
   ],
   "source": [
    "# Shuffle train data\n",
    "trainData = shuffle(trainData)\n",
    "\n",
    "max_data_size = int(len(trainData) * 1)\n",
    "train_data_size = int(max_data_size * .9)\n",
    "train_data_step = 1\n",
    "validate_data_step = 1\n",
    "print(train_data_size, max_data_size)\n",
    "\n",
    "train_texts = trainData['title'][:train_data_size:train_data_step]\n",
    "valid_texts = trainData['title'][train_data_size::train_data_step]\n",
    "train_tags = trainData['Category'][:train_data_size:train_data_step]\n",
    "valid_tags = trainData['Category'][train_data_size::train_data_step]\n",
    "test_texts = testData['title']\n",
    "print(len(train_texts), len(train_tags))\n",
    "\n",
    "y = train_tags.values\n",
    "\n",
    "tokenize = text.Tokenizer(num_words=max_words, char_level=False)\n",
    "tokenize.fit_on_texts(train_texts)  # only fit on train\n",
    "x_train = tokenize.texts_to_sequences(train_texts)\n",
    "x_valid = tokenize.texts_to_sequences(valid_texts)\n",
    "x_test = tokenize.texts_to_sequences(test_texts)\n",
    "\n",
    "word_index = tokenize.word_index\n",
    "\n",
    "# Pad sequences with zeros\n",
    "x_train = pad_sequences(x_train, padding='post', maxlen=max_length)\n",
    "x_valid = pad_sequences(x_valid,padding='post',maxlen=max_length)\n",
    "x_test = pad_sequences(x_test, padding='post', maxlen=max_length)\n",
    "\n",
    "y_train = train_tags.values\n",
    "y_valid = valid_tags.values\n",
    "vocab_size = len(tokenize.word_index) + 1\n",
    "print(vocab_size)\n"
   ]
  },
  {
   "cell_type": "code",
   "execution_count": 3,
   "metadata": {},
   "outputs": [],
   "source": [
    "import xgboost"
   ]
  },
  {
   "cell_type": "code",
   "execution_count": null,
   "metadata": {},
   "outputs": [],
   "source": [
    "accuracy = xgboost.XGBClassifier(verbosity=3).fit(train_texts,y_train,x_valid)"
   ]
  },
  {
   "cell_type": "code",
   "execution_count": 4,
   "metadata": {},
   "outputs": [
    {
     "data": {
      "text/plain": [
       "(599953, 35)"
      ]
     },
     "execution_count": 4,
     "metadata": {},
     "output_type": "execute_result"
    }
   ],
   "source": [
    "x_train.shape"
   ]
  },
  {
   "cell_type": "code",
   "execution_count": 5,
   "metadata": {},
   "outputs": [
    {
     "data": {
      "text/plain": [
       "(599953,)"
      ]
     },
     "execution_count": 5,
     "metadata": {},
     "output_type": "execute_result"
    }
   ],
   "source": [
    "y_train.shape"
   ]
  },
  {
   "cell_type": "code",
   "execution_count": null,
   "metadata": {},
   "outputs": [],
   "source": []
  }
 ],
 "metadata": {
  "kernelspec": {
   "display_name": "Python 3",
   "language": "python",
   "name": "python3"
  },
  "language_info": {
   "codemirror_mode": {
    "name": "ipython",
    "version": 3
   },
   "file_extension": ".py",
   "mimetype": "text/x-python",
   "name": "python",
   "nbconvert_exporter": "python",
   "pygments_lexer": "ipython3",
   "version": "3.6.5"
  }
 },
 "nbformat": 4,
 "nbformat_minor": 1
}
