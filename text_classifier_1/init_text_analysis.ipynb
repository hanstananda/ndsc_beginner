{
 "cells": [
  {
   "cell_type": "code",
   "execution_count": null,
   "metadata": {},
   "outputs": [],
   "source": [
    "# Basic Libraries\n",
    "import numpy as np\n",
    "import pandas as pd\n",
    "import seaborn as sb\n",
    "\n",
    "import matplotlib.pyplot as plt # we only need pyplot\n",
    "sb.set() # set the default Seaborn style for graphics\n",
    "import json\n",
    "\n",
    "import re"
   ]
  },
  {
   "cell_type": "code",
   "execution_count": 5,
   "metadata": {},
   "outputs": [],
   "source": [
    "trainData = pd.read_csv(\"../data/train.csv\")"
   ]
  },
  {
   "cell_type": "code",
   "execution_count": 6,
   "metadata": {},
   "outputs": [],
   "source": [
    "dictData = pd.read_csv(\"../data/kata_dasar_kbbi.csv\")"
   ]
  },
  {
   "cell_type": "code",
   "execution_count": 7,
   "metadata": {},
   "outputs": [
    {
     "data": {
      "text/html": [
       "<div>\n",
       "<style scoped>\n",
       "    .dataframe tbody tr th:only-of-type {\n",
       "        vertical-align: middle;\n",
       "    }\n",
       "\n",
       "    .dataframe tbody tr th {\n",
       "        vertical-align: top;\n",
       "    }\n",
       "\n",
       "    .dataframe thead th {\n",
       "        text-align: right;\n",
       "    }\n",
       "</style>\n",
       "<table border=\"1\" class=\"dataframe\">\n",
       "  <thead>\n",
       "    <tr style=\"text-align: right;\">\n",
       "      <th></th>\n",
       "      <th>itemid</th>\n",
       "      <th>title</th>\n",
       "      <th>Category</th>\n",
       "      <th>image_path</th>\n",
       "    </tr>\n",
       "  </thead>\n",
       "  <tbody>\n",
       "    <tr>\n",
       "      <th>0</th>\n",
       "      <td>307504</td>\n",
       "      <td>nyx sex bomb pallete natural palette</td>\n",
       "      <td>0</td>\n",
       "      <td>beauty_image/6b2e9cbb279ac95703348368aa65da09.jpg</td>\n",
       "    </tr>\n",
       "    <tr>\n",
       "      <th>1</th>\n",
       "      <td>461203</td>\n",
       "      <td>etude house precious mineral any cushion pearl...</td>\n",
       "      <td>1</td>\n",
       "      <td>beauty_image/20450222d857c9571ba8fa23bdedc8c9.jpg</td>\n",
       "    </tr>\n",
       "    <tr>\n",
       "      <th>2</th>\n",
       "      <td>3592295</td>\n",
       "      <td>milani rose powder blush</td>\n",
       "      <td>2</td>\n",
       "      <td>beauty_image/6a5962bed605a3dd6604ca3a4278a4f9.jpg</td>\n",
       "    </tr>\n",
       "    <tr>\n",
       "      <th>3</th>\n",
       "      <td>4460167</td>\n",
       "      <td>etude house baby sweet sugar powder</td>\n",
       "      <td>3</td>\n",
       "      <td>beauty_image/56987ae186e8a8e71fcc5a261ca485da.jpg</td>\n",
       "    </tr>\n",
       "    <tr>\n",
       "      <th>4</th>\n",
       "      <td>5853995</td>\n",
       "      <td>bedak revlon color stay aqua mineral make up</td>\n",
       "      <td>3</td>\n",
       "      <td>beauty_image/9c6968066ebab57588c2f757a240d8b9.jpg</td>\n",
       "    </tr>\n",
       "  </tbody>\n",
       "</table>\n",
       "</div>"
      ],
      "text/plain": [
       "    itemid                                              title  Category  \\\n",
       "0   307504               nyx sex bomb pallete natural palette         0   \n",
       "1   461203  etude house precious mineral any cushion pearl...         1   \n",
       "2  3592295                           milani rose powder blush         2   \n",
       "3  4460167                etude house baby sweet sugar powder         3   \n",
       "4  5853995       bedak revlon color stay aqua mineral make up         3   \n",
       "\n",
       "                                          image_path  \n",
       "0  beauty_image/6b2e9cbb279ac95703348368aa65da09.jpg  \n",
       "1  beauty_image/20450222d857c9571ba8fa23bdedc8c9.jpg  \n",
       "2  beauty_image/6a5962bed605a3dd6604ca3a4278a4f9.jpg  \n",
       "3  beauty_image/56987ae186e8a8e71fcc5a261ca485da.jpg  \n",
       "4  beauty_image/9c6968066ebab57588c2f757a240d8b9.jpg  "
      ]
     },
     "execution_count": 7,
     "metadata": {},
     "output_type": "execute_result"
    }
   ],
   "source": [
    "trainData.head()"
   ]
  },
  {
   "cell_type": "code",
   "execution_count": null,
   "metadata": {},
   "outputs": [],
   "source": [
    "maxlength=0\n",
    "for i in trainData[\"title\"]:\n",
    "    maxlength = max(maxlength,len(i.split()))"
   ]
  },
  {
   "cell_type": "code",
   "execution_count": 9,
   "metadata": {},
   "outputs": [
    {
     "data": {
      "text/plain": [
       "106"
      ]
     },
     "execution_count": 9,
     "metadata": {},
     "output_type": "execute_result"
    }
   ],
   "source": [
    "maxlength"
   ]
  },
  {
   "cell_type": "code",
   "execution_count": 10,
   "metadata": {},
   "outputs": [
    {
     "data": {
      "text/plain": [
       "(666615, 4)"
      ]
     },
     "execution_count": 10,
     "metadata": {},
     "output_type": "execute_result"
    }
   ],
   "source": [
    "trainData.shape"
   ]
  },
  {
   "cell_type": "code",
   "execution_count": 11,
   "metadata": {},
   "outputs": [
    {
     "data": {
      "text/html": [
       "<div>\n",
       "<style scoped>\n",
       "    .dataframe tbody tr th:only-of-type {\n",
       "        vertical-align: middle;\n",
       "    }\n",
       "\n",
       "    .dataframe tbody tr th {\n",
       "        vertical-align: top;\n",
       "    }\n",
       "\n",
       "    .dataframe thead th {\n",
       "        text-align: right;\n",
       "    }\n",
       "</style>\n",
       "<table border=\"1\" class=\"dataframe\">\n",
       "  <thead>\n",
       "    <tr style=\"text-align: right;\">\n",
       "      <th></th>\n",
       "      <th>itemid</th>\n",
       "      <th>title</th>\n",
       "      <th>Category</th>\n",
       "      <th>image_path</th>\n",
       "    </tr>\n",
       "  </thead>\n",
       "  <tbody>\n",
       "    <tr>\n",
       "      <th>248338</th>\n",
       "      <td>1611494312</td>\n",
       "      <td>be bioaqua exquisite and delicate refill bb cu...</td>\n",
       "      <td>5</td>\n",
       "      <td>beauty_image/89b1c96e6adbf4ec30229916abbc44e1.jpg</td>\n",
       "    </tr>\n",
       "    <tr>\n",
       "      <th>49308</th>\n",
       "      <td>876291886</td>\n",
       "      <td>wardah exclusive liquid foundation 20ml</td>\n",
       "      <td>1</td>\n",
       "      <td>beauty_image/13309d9f212a83e367531d4bd883d805.jpg</td>\n",
       "    </tr>\n",
       "    <tr>\n",
       "      <th>368338</th>\n",
       "      <td>1822601959</td>\n",
       "      <td>new sexy high waistband horn sleeve lace dress...</td>\n",
       "      <td>22</td>\n",
       "      <td>fashion_image/8f60351595bbb77d2ce57efb5ef524e7</td>\n",
       "    </tr>\n",
       "    <tr>\n",
       "      <th>27483</th>\n",
       "      <td>633628835</td>\n",
       "      <td>the face shop cc long lasting cushion</td>\n",
       "      <td>5</td>\n",
       "      <td>beauty_image/0fe817d68e750e01a240824944e80c33.jpg</td>\n",
       "    </tr>\n",
       "    <tr>\n",
       "      <th>426407</th>\n",
       "      <td>1601825925</td>\n",
       "      <td>blus tanpa lengan desain patchwork renda denga...</td>\n",
       "      <td>27</td>\n",
       "      <td>fashion_image/3349d1fbf8c9421aca2415fa75b03784</td>\n",
       "    </tr>\n",
       "    <tr>\n",
       "      <th>433301</th>\n",
       "      <td>1573085199</td>\n",
       "      <td>grosir t shirt tumblr tee kaos wanita lengan p...</td>\n",
       "      <td>25</td>\n",
       "      <td>fashion_image/a3d8317d49a2d94be223b69e9e087b61</td>\n",
       "    </tr>\n",
       "    <tr>\n",
       "      <th>255858</th>\n",
       "      <td>1549983657</td>\n",
       "      <td>allura blush on cream sweety peach 12 5gr</td>\n",
       "      <td>2</td>\n",
       "      <td>beauty_image/9f81d82bd11d9d8f591f0f3b8b26f86d.jpg</td>\n",
       "    </tr>\n",
       "    <tr>\n",
       "      <th>137537</th>\n",
       "      <td>186747424</td>\n",
       "      <td>etude house cc cream</td>\n",
       "      <td>5</td>\n",
       "      <td>beauty_image/9c2dde85e8c5e8fb3119ebbbd29d3d60.jpg</td>\n",
       "    </tr>\n",
       "    <tr>\n",
       "      <th>36554</th>\n",
       "      <td>915348346</td>\n",
       "      <td>p r o m bedak purbasari oil control matte powd...</td>\n",
       "      <td>3</td>\n",
       "      <td>beauty_image/06f7342c8df3705da2356af061d79a2f.jpg</td>\n",
       "    </tr>\n",
       "    <tr>\n",
       "      <th>598234</th>\n",
       "      <td>1474936326</td>\n",
       "      <td>promo oppo f9 ram 4 64gb murah free speaker bl...</td>\n",
       "      <td>41</td>\n",
       "      <td>mobile_image/46f848a5b048bfb9ba722fdeb5efd4d5.jpg</td>\n",
       "    </tr>\n",
       "  </tbody>\n",
       "</table>\n",
       "</div>"
      ],
      "text/plain": [
       "            itemid                                              title  \\\n",
       "248338  1611494312  be bioaqua exquisite and delicate refill bb cu...   \n",
       "49308    876291886            wardah exclusive liquid foundation 20ml   \n",
       "368338  1822601959  new sexy high waistband horn sleeve lace dress...   \n",
       "27483    633628835              the face shop cc long lasting cushion   \n",
       "426407  1601825925  blus tanpa lengan desain patchwork renda denga...   \n",
       "433301  1573085199  grosir t shirt tumblr tee kaos wanita lengan p...   \n",
       "255858  1549983657          allura blush on cream sweety peach 12 5gr   \n",
       "137537   186747424                               etude house cc cream   \n",
       "36554    915348346  p r o m bedak purbasari oil control matte powd...   \n",
       "598234  1474936326  promo oppo f9 ram 4 64gb murah free speaker bl...   \n",
       "\n",
       "        Category                                         image_path  \n",
       "248338         5  beauty_image/89b1c96e6adbf4ec30229916abbc44e1.jpg  \n",
       "49308          1  beauty_image/13309d9f212a83e367531d4bd883d805.jpg  \n",
       "368338        22     fashion_image/8f60351595bbb77d2ce57efb5ef524e7  \n",
       "27483          5  beauty_image/0fe817d68e750e01a240824944e80c33.jpg  \n",
       "426407        27     fashion_image/3349d1fbf8c9421aca2415fa75b03784  \n",
       "433301        25     fashion_image/a3d8317d49a2d94be223b69e9e087b61  \n",
       "255858         2  beauty_image/9f81d82bd11d9d8f591f0f3b8b26f86d.jpg  \n",
       "137537         5  beauty_image/9c2dde85e8c5e8fb3119ebbbd29d3d60.jpg  \n",
       "36554          3  beauty_image/06f7342c8df3705da2356af061d79a2f.jpg  \n",
       "598234        41  mobile_image/46f848a5b048bfb9ba722fdeb5efd4d5.jpg  "
      ]
     },
     "execution_count": 11,
     "metadata": {},
     "output_type": "execute_result"
    }
   ],
   "source": [
    "trainData.sample(n=10)"
   ]
  },
  {
   "cell_type": "code",
   "execution_count": null,
   "metadata": {},
   "outputs": [],
   "source": [
    "dic = {}\n",
    "\n",
    "for index,row in trainData.iterrows():\n",
    "    arr = re.split('\\W+',row[\"title\"])\n",
    "    for sz in arr:\n",
    "        if (sz,row[\"Category\"]) not in dic:\n",
    "            dic[(sz,row[\"Category\"])] = 1\n",
    "        else:\n",
    "            dic[(sz,row[\"Category\"])]+=1\n",
    "\n",
    "# for i in range(trainData.shape[0]):\n",
    "#     arr = re.split('\\W+',trainData[\"title\"][i])\n",
    "#     for j in arr:\n",
    "#         if (j,trainData[\"Category\"][i]) not in dic:\n",
    "#             dic[(j,trainData[\"Category\"][i])]=1\n",
    "#         else:\n",
    "#             dic[(j,trainData[\"Category\"][i])]+=1"
   ]
  },
  {
   "cell_type": "code",
   "execution_count": 38,
   "metadata": {},
   "outputs": [],
   "source": [
    "dicAll = {}\n"
   ]
  },
  {
   "cell_type": "code",
   "execution_count": 39,
   "metadata": {},
   "outputs": [],
   "source": [
    "for index,row in trainData.iterrows():\n",
    "    arr = re.split('\\W+',row[\"title\"])\n",
    "    for sz in arr:\n",
    "        if sz not in dicAll:\n",
    "            dicAll[sz] = 1\n",
    "        else:\n",
    "            dicAll[sz]+=1"
   ]
  },
  {
   "cell_type": "code",
   "execution_count": 37,
   "metadata": {},
   "outputs": [],
   "source": [
    "testData = pd.read_csv(\"test.csv\")"
   ]
  },
  {
   "cell_type": "code",
   "execution_count": 71,
   "metadata": {},
   "outputs": [],
   "source": [
    "idx = []\n",
    "res = []"
   ]
  },
  {
   "cell_type": "code",
   "execution_count": 72,
   "metadata": {},
   "outputs": [],
   "source": [
    "for index,row in testData.iterrows():\n",
    "    maxi = 0.0\n",
    "    imax = 0\n",
    "    for i in range(58):\n",
    "        tot = 0.0\n",
    "        arr = re.split('\\W+',row[\"title\"])\n",
    "        for sz in arr:\n",
    "            if (sz,i) in dic:\n",
    "                tot += dic[(sz,i)]/dicAll[sz]\n",
    "        if tot>maxi:\n",
    "            maxi=tot\n",
    "            imax = i\n",
    "    idx.append(row[\"itemid\"])\n",
    "    res.append(imax)"
   ]
  },
  {
   "cell_type": "code",
   "execution_count": 73,
   "metadata": {},
   "outputs": [],
   "source": [
    "df = pd.DataFrame({'itemid': idx, 'Category':res})"
   ]
  },
  {
   "cell_type": "code",
   "execution_count": 74,
   "metadata": {},
   "outputs": [
    {
     "data": {
      "text/html": [
       "<div>\n",
       "<style scoped>\n",
       "    .dataframe tbody tr th:only-of-type {\n",
       "        vertical-align: middle;\n",
       "    }\n",
       "\n",
       "    .dataframe tbody tr th {\n",
       "        vertical-align: top;\n",
       "    }\n",
       "\n",
       "    .dataframe thead th {\n",
       "        text-align: right;\n",
       "    }\n",
       "</style>\n",
       "<table border=\"1\" class=\"dataframe\">\n",
       "  <thead>\n",
       "    <tr style=\"text-align: right;\">\n",
       "      <th></th>\n",
       "      <th>itemid</th>\n",
       "      <th>Category</th>\n",
       "    </tr>\n",
       "  </thead>\n",
       "  <tbody>\n",
       "    <tr>\n",
       "      <th>0</th>\n",
       "      <td>370855998</td>\n",
       "      <td>5</td>\n",
       "    </tr>\n",
       "    <tr>\n",
       "      <th>1</th>\n",
       "      <td>637234604</td>\n",
       "      <td>3</td>\n",
       "    </tr>\n",
       "    <tr>\n",
       "      <th>2</th>\n",
       "      <td>690282890</td>\n",
       "      <td>5</td>\n",
       "    </tr>\n",
       "    <tr>\n",
       "      <th>3</th>\n",
       "      <td>930913462</td>\n",
       "      <td>5</td>\n",
       "    </tr>\n",
       "    <tr>\n",
       "      <th>4</th>\n",
       "      <td>1039280071</td>\n",
       "      <td>5</td>\n",
       "    </tr>\n",
       "    <tr>\n",
       "      <th>5</th>\n",
       "      <td>1327710392</td>\n",
       "      <td>5</td>\n",
       "    </tr>\n",
       "    <tr>\n",
       "      <th>6</th>\n",
       "      <td>1328802799</td>\n",
       "      <td>5</td>\n",
       "    </tr>\n",
       "    <tr>\n",
       "      <th>7</th>\n",
       "      <td>1330468145</td>\n",
       "      <td>5</td>\n",
       "    </tr>\n",
       "    <tr>\n",
       "      <th>8</th>\n",
       "      <td>1677309730</td>\n",
       "      <td>5</td>\n",
       "    </tr>\n",
       "    <tr>\n",
       "      <th>9</th>\n",
       "      <td>1683142205</td>\n",
       "      <td>5</td>\n",
       "    </tr>\n",
       "  </tbody>\n",
       "</table>\n",
       "</div>"
      ],
      "text/plain": [
       "       itemid  Category\n",
       "0   370855998         5\n",
       "1   637234604         3\n",
       "2   690282890         5\n",
       "3   930913462         5\n",
       "4  1039280071         5\n",
       "5  1327710392         5\n",
       "6  1328802799         5\n",
       "7  1330468145         5\n",
       "8  1677309730         5\n",
       "9  1683142205         5"
      ]
     },
     "execution_count": 74,
     "metadata": {},
     "output_type": "execute_result"
    }
   ],
   "source": [
    "df.head(n=10)"
   ]
  },
  {
   "cell_type": "code",
   "execution_count": 78,
   "metadata": {},
   "outputs": [],
   "source": [
    "df.to_csv(path_or_buf  = 'out.csv', index = False)"
   ]
  },
  {
   "cell_type": "code",
   "execution_count": null,
   "metadata": {},
   "outputs": [],
   "source": []
  },
  {
   "cell_type": "code",
   "execution_count": 43,
   "metadata": {},
   "outputs": [
    {
     "ename": "JSONDecodeError",
     "evalue": "Expecting value: line 1 column 1 (char 0)",
     "traceback": [
      "\u001b[1;31m---------------------------------------------------------------------------\u001b[0m",
      "\u001b[1;31mJSONDecodeError\u001b[0m                           Traceback (most recent call last)",
      "\u001b[1;32m<ipython-input-43-3cfd0ebe7d2c>\u001b[0m in \u001b[0;36m<module>\u001b[1;34m\u001b[0m\n\u001b[1;32m----> 1\u001b[1;33m \u001b[0mcatData\u001b[0m \u001b[1;33m=\u001b[0m \u001b[0mjson\u001b[0m\u001b[1;33m.\u001b[0m\u001b[0mloads\u001b[0m\u001b[1;33m(\u001b[0m\u001b[1;34m\"categories.json\"\u001b[0m\u001b[1;33m)\u001b[0m\u001b[1;33m\u001b[0m\u001b[1;33m\u001b[0m\u001b[0m\n\u001b[0m",
      "\u001b[1;32mC:\\Anaconda\\lib\\json\\__init__.py\u001b[0m in \u001b[0;36mloads\u001b[1;34m(s, encoding, cls, object_hook, parse_float, parse_int, parse_constant, object_pairs_hook, **kw)\u001b[0m\n\u001b[0;32m    346\u001b[0m             \u001b[0mparse_int\u001b[0m \u001b[1;32mis\u001b[0m \u001b[1;32mNone\u001b[0m \u001b[1;32mand\u001b[0m \u001b[0mparse_float\u001b[0m \u001b[1;32mis\u001b[0m \u001b[1;32mNone\u001b[0m \u001b[1;32mand\u001b[0m\u001b[1;33m\u001b[0m\u001b[1;33m\u001b[0m\u001b[0m\n\u001b[0;32m    347\u001b[0m             parse_constant is None and object_pairs_hook is None and not kw):\n\u001b[1;32m--> 348\u001b[1;33m         \u001b[1;32mreturn\u001b[0m \u001b[0m_default_decoder\u001b[0m\u001b[1;33m.\u001b[0m\u001b[0mdecode\u001b[0m\u001b[1;33m(\u001b[0m\u001b[0ms\u001b[0m\u001b[1;33m)\u001b[0m\u001b[1;33m\u001b[0m\u001b[1;33m\u001b[0m\u001b[0m\n\u001b[0m\u001b[0;32m    349\u001b[0m     \u001b[1;32mif\u001b[0m \u001b[0mcls\u001b[0m \u001b[1;32mis\u001b[0m \u001b[1;32mNone\u001b[0m\u001b[1;33m:\u001b[0m\u001b[1;33m\u001b[0m\u001b[1;33m\u001b[0m\u001b[0m\n\u001b[0;32m    350\u001b[0m         \u001b[0mcls\u001b[0m \u001b[1;33m=\u001b[0m \u001b[0mJSONDecoder\u001b[0m\u001b[1;33m\u001b[0m\u001b[1;33m\u001b[0m\u001b[0m\n",
      "\u001b[1;32mC:\\Anaconda\\lib\\json\\decoder.py\u001b[0m in \u001b[0;36mdecode\u001b[1;34m(self, s, _w)\u001b[0m\n\u001b[0;32m    335\u001b[0m \u001b[1;33m\u001b[0m\u001b[0m\n\u001b[0;32m    336\u001b[0m         \"\"\"\n\u001b[1;32m--> 337\u001b[1;33m         \u001b[0mobj\u001b[0m\u001b[1;33m,\u001b[0m \u001b[0mend\u001b[0m \u001b[1;33m=\u001b[0m \u001b[0mself\u001b[0m\u001b[1;33m.\u001b[0m\u001b[0mraw_decode\u001b[0m\u001b[1;33m(\u001b[0m\u001b[0ms\u001b[0m\u001b[1;33m,\u001b[0m \u001b[0midx\u001b[0m\u001b[1;33m=\u001b[0m\u001b[0m_w\u001b[0m\u001b[1;33m(\u001b[0m\u001b[0ms\u001b[0m\u001b[1;33m,\u001b[0m \u001b[1;36m0\u001b[0m\u001b[1;33m)\u001b[0m\u001b[1;33m.\u001b[0m\u001b[0mend\u001b[0m\u001b[1;33m(\u001b[0m\u001b[1;33m)\u001b[0m\u001b[1;33m)\u001b[0m\u001b[1;33m\u001b[0m\u001b[1;33m\u001b[0m\u001b[0m\n\u001b[0m\u001b[0;32m    338\u001b[0m         \u001b[0mend\u001b[0m \u001b[1;33m=\u001b[0m \u001b[0m_w\u001b[0m\u001b[1;33m(\u001b[0m\u001b[0ms\u001b[0m\u001b[1;33m,\u001b[0m \u001b[0mend\u001b[0m\u001b[1;33m)\u001b[0m\u001b[1;33m.\u001b[0m\u001b[0mend\u001b[0m\u001b[1;33m(\u001b[0m\u001b[1;33m)\u001b[0m\u001b[1;33m\u001b[0m\u001b[1;33m\u001b[0m\u001b[0m\n\u001b[0;32m    339\u001b[0m         \u001b[1;32mif\u001b[0m \u001b[0mend\u001b[0m \u001b[1;33m!=\u001b[0m \u001b[0mlen\u001b[0m\u001b[1;33m(\u001b[0m\u001b[0ms\u001b[0m\u001b[1;33m)\u001b[0m\u001b[1;33m:\u001b[0m\u001b[1;33m\u001b[0m\u001b[1;33m\u001b[0m\u001b[0m\n",
      "\u001b[1;32mC:\\Anaconda\\lib\\json\\decoder.py\u001b[0m in \u001b[0;36mraw_decode\u001b[1;34m(self, s, idx)\u001b[0m\n\u001b[0;32m    353\u001b[0m             \u001b[0mobj\u001b[0m\u001b[1;33m,\u001b[0m \u001b[0mend\u001b[0m \u001b[1;33m=\u001b[0m \u001b[0mself\u001b[0m\u001b[1;33m.\u001b[0m\u001b[0mscan_once\u001b[0m\u001b[1;33m(\u001b[0m\u001b[0ms\u001b[0m\u001b[1;33m,\u001b[0m \u001b[0midx\u001b[0m\u001b[1;33m)\u001b[0m\u001b[1;33m\u001b[0m\u001b[1;33m\u001b[0m\u001b[0m\n\u001b[0;32m    354\u001b[0m         \u001b[1;32mexcept\u001b[0m \u001b[0mStopIteration\u001b[0m \u001b[1;32mas\u001b[0m \u001b[0merr\u001b[0m\u001b[1;33m:\u001b[0m\u001b[1;33m\u001b[0m\u001b[1;33m\u001b[0m\u001b[0m\n\u001b[1;32m--> 355\u001b[1;33m             \u001b[1;32mraise\u001b[0m \u001b[0mJSONDecodeError\u001b[0m\u001b[1;33m(\u001b[0m\u001b[1;34m\"Expecting value\"\u001b[0m\u001b[1;33m,\u001b[0m \u001b[0ms\u001b[0m\u001b[1;33m,\u001b[0m \u001b[0merr\u001b[0m\u001b[1;33m.\u001b[0m\u001b[0mvalue\u001b[0m\u001b[1;33m)\u001b[0m \u001b[1;32mfrom\u001b[0m \u001b[1;32mNone\u001b[0m\u001b[1;33m\u001b[0m\u001b[1;33m\u001b[0m\u001b[0m\n\u001b[0m\u001b[0;32m    356\u001b[0m         \u001b[1;32mreturn\u001b[0m \u001b[0mobj\u001b[0m\u001b[1;33m,\u001b[0m \u001b[0mend\u001b[0m\u001b[1;33m\u001b[0m\u001b[1;33m\u001b[0m\u001b[0m\n",
      "\u001b[1;31mJSONDecodeError\u001b[0m: Expecting value: line 1 column 1 (char 0)"
     ],
     "output_type": "error"
    }
   ],
   "source": [
    "catData = json.loads(\"categories.json\")"
   ]
  },
  {
   "cell_type": "code",
   "execution_count": 12,
   "metadata": {
    "scrolled": true
   },
   "outputs": [
    {
     "data": {
      "text/html": [
       "<div>\n",
       "<style scoped>\n",
       "    .dataframe tbody tr th:only-of-type {\n",
       "        vertical-align: middle;\n",
       "    }\n",
       "\n",
       "    .dataframe tbody tr th {\n",
       "        vertical-align: top;\n",
       "    }\n",
       "\n",
       "    .dataframe thead th {\n",
       "        text-align: right;\n",
       "    }\n",
       "</style>\n",
       "<table border=\"1\" class=\"dataframe\">\n",
       "  <thead>\n",
       "    <tr style=\"text-align: right;\">\n",
       "      <th></th>\n",
       "      <th>Mobile</th>\n",
       "      <th>Fashion</th>\n",
       "      <th>Beauty</th>\n",
       "    </tr>\n",
       "  </thead>\n",
       "  <tbody>\n",
       "    <tr>\n",
       "      <th>A Line Dress</th>\n",
       "      <td>NaN</td>\n",
       "      <td>21.0</td>\n",
       "      <td>NaN</td>\n",
       "    </tr>\n",
       "    <tr>\n",
       "      <th>Advan</th>\n",
       "      <td>45.0</td>\n",
       "      <td>NaN</td>\n",
       "      <td>NaN</td>\n",
       "    </tr>\n",
       "    <tr>\n",
       "      <th>Alcatel</th>\n",
       "      <td>55.0</td>\n",
       "      <td>NaN</td>\n",
       "      <td>NaN</td>\n",
       "    </tr>\n",
       "    <tr>\n",
       "      <th>Asus</th>\n",
       "      <td>43.0</td>\n",
       "      <td>NaN</td>\n",
       "      <td>NaN</td>\n",
       "    </tr>\n",
       "    <tr>\n",
       "      <th>BB &amp; CC Cream</th>\n",
       "      <td>NaN</td>\n",
       "      <td>NaN</td>\n",
       "      <td>5.0</td>\n",
       "    </tr>\n",
       "  </tbody>\n",
       "</table>\n",
       "</div>"
      ],
      "text/plain": [
       "               Mobile  Fashion  Beauty\n",
       "A Line Dress      NaN     21.0     NaN\n",
       "Advan            45.0      NaN     NaN\n",
       "Alcatel          55.0      NaN     NaN\n",
       "Asus             43.0      NaN     NaN\n",
       "BB & CC Cream     NaN      NaN     5.0"
      ]
     },
     "execution_count": 12,
     "metadata": {},
     "output_type": "execute_result"
    }
   ],
   "source": [
    "catData.head()"
   ]
  },
  {
   "cell_type": "code",
   "execution_count": 15,
   "metadata": {},
   "outputs": [],
   "source": [
    "categories_file = open(\"categories.json\", \"r\")\n",
    "categories = json.load(categories_file)"
   ]
  },
  {
   "cell_type": "code",
   "execution_count": 16,
   "metadata": {},
   "outputs": [
    {
     "data": {
      "text/plain": [
       "{'Mobile': {'Others Mobile & Tablet': 35,\n",
       "  'Smartfren': 53,\n",
       "  'Infinix': 40,\n",
       "  'Brandcode': 39,\n",
       "  'Icherry': 52,\n",
       "  'Advan': 45,\n",
       "  'Iphone': 31,\n",
       "  'Realme': 51,\n",
       "  'Motorola': 49,\n",
       "  'Maxtron': 56,\n",
       "  'Nokia': 38,\n",
       "  'Xiaomi': 34,\n",
       "  'Mito': 46,\n",
       "  'Sony': 33,\n",
       "  'SPC': 57,\n",
       "  'Lenovo': 37,\n",
       "  'Alcatel': 55,\n",
       "  'Samsung': 32,\n",
       "  'Vivo': 42,\n",
       "  'Evercoss': 44,\n",
       "  'Strawberry': 50,\n",
       "  'Blackberry': 36,\n",
       "  'Asus': 43,\n",
       "  'Honor': 54,\n",
       "  'Oppo': 41,\n",
       "  'Huawei': 47,\n",
       "  'Sharp': 48},\n",
       " 'Fashion': {'Wedding Dress': 23,\n",
       "  'Shirt': 27,\n",
       "  'Casual Dress': 18,\n",
       "  'Maxi Dress': 20,\n",
       "  'Big Size Dress': 24,\n",
       "  'Bodycon Dress': 22,\n",
       "  'Party Dress': 19,\n",
       "  'Blouse\\xa0': 26,\n",
       "  'Tshirt': 25,\n",
       "  'Crop Top ': 29,\n",
       "  'Tanktop': 28,\n",
       "  'Others': 17,\n",
       "  'A Line Dress': 21,\n",
       "  'Big Size Top': 30},\n",
       " 'Beauty': {'Foundation': 1,\n",
       "  'Face Palette': 0,\n",
       "  'Concealer': 7,\n",
       "  'Lip Gloss': 14,\n",
       "  'Blush On': 2,\n",
       "  'Highlighter': 8,\n",
       "  'BB & CC Cream': 5,\n",
       "  'Other Face Cosmetics': 4,\n",
       "  'Lip Tint': 13,\n",
       "  'Bronzer': 11,\n",
       "  'Lip Liner': 15,\n",
       "  'Powder': 3,\n",
       "  'Setting Spray': 10,\n",
       "  'Primer': 9,\n",
       "  'Contour': 6,\n",
       "  'Other Lip Cosmetics': 16,\n",
       "  'Lipstick': 12}}"
      ]
     },
     "execution_count": 16,
     "metadata": {},
     "output_type": "execute_result"
    }
   ],
   "source": [
    "categories"
   ]
  },
  {
   "cell_type": "code",
   "execution_count": null,
   "metadata": {},
   "outputs": [],
   "source": []
  }
 ],
 "metadata": {
  "kernelspec": {
   "display_name": "Python 3",
   "language": "python",
   "name": "python3"
  },
  "language_info": {
   "codemirror_mode": {
    "name": "ipython",
    "version": 3
   },
   "file_extension": ".py",
   "mimetype": "text/x-python",
   "name": "python",
   "nbconvert_exporter": "python",
   "pygments_lexer": "ipython3",
   "version": "3.6.5"
  }
 },
 "nbformat": 4,
 "nbformat_minor": 2
}
