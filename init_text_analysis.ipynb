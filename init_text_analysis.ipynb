{
 "cells": [
  {
   "cell_type": "code",
   "execution_count": 23,
   "metadata": {},
   "outputs": [],
   "source": [
    "# Basic Libraries\n",
    "import numpy as np\n",
    "import pandas as pd\n",
    "import seaborn as sb\n",
    "import matplotlib.pyplot as plt # we only need pyplot\n",
    "sb.set() # set the default Seaborn style for graphics\n",
    "import json\n",
    "\n",
    "import re"
   ]
  },
  {
   "cell_type": "code",
   "execution_count": 6,
   "metadata": {},
   "outputs": [],
   "source": [
    "trainData = pd.read_csv(\"train.csv\")"
   ]
  },
  {
   "cell_type": "code",
   "execution_count": 3,
   "metadata": {},
   "outputs": [],
   "source": [
    "dictData = pd.read_csv(\"kata_dasar_kbbi.csv\")"
   ]
  },
  {
   "cell_type": "code",
   "execution_count": 3,
   "metadata": {},
   "outputs": [
    {
     "data": {
      "text/html": [
       "<div>\n",
       "<style scoped>\n",
       "    .dataframe tbody tr th:only-of-type {\n",
       "        vertical-align: middle;\n",
       "    }\n",
       "\n",
       "    .dataframe tbody tr th {\n",
       "        vertical-align: top;\n",
       "    }\n",
       "\n",
       "    .dataframe thead th {\n",
       "        text-align: right;\n",
       "    }\n",
       "</style>\n",
       "<table border=\"1\" class=\"dataframe\">\n",
       "  <thead>\n",
       "    <tr style=\"text-align: right;\">\n",
       "      <th></th>\n",
       "      <th>itemid</th>\n",
       "      <th>title</th>\n",
       "      <th>Category</th>\n",
       "      <th>image_path</th>\n",
       "    </tr>\n",
       "  </thead>\n",
       "  <tbody>\n",
       "    <tr>\n",
       "      <th>0</th>\n",
       "      <td>307504</td>\n",
       "      <td>nyx sex bomb pallete natural palette</td>\n",
       "      <td>0</td>\n",
       "      <td>beauty_image/6b2e9cbb279ac95703348368aa65da09.jpg</td>\n",
       "    </tr>\n",
       "    <tr>\n",
       "      <th>1</th>\n",
       "      <td>461203</td>\n",
       "      <td>etude house precious mineral any cushion pearl...</td>\n",
       "      <td>1</td>\n",
       "      <td>beauty_image/20450222d857c9571ba8fa23bdedc8c9.jpg</td>\n",
       "    </tr>\n",
       "    <tr>\n",
       "      <th>2</th>\n",
       "      <td>3592295</td>\n",
       "      <td>milani rose powder blush</td>\n",
       "      <td>2</td>\n",
       "      <td>beauty_image/6a5962bed605a3dd6604ca3a4278a4f9.jpg</td>\n",
       "    </tr>\n",
       "    <tr>\n",
       "      <th>3</th>\n",
       "      <td>4460167</td>\n",
       "      <td>etude house baby sweet sugar powder</td>\n",
       "      <td>3</td>\n",
       "      <td>beauty_image/56987ae186e8a8e71fcc5a261ca485da.jpg</td>\n",
       "    </tr>\n",
       "    <tr>\n",
       "      <th>4</th>\n",
       "      <td>5853995</td>\n",
       "      <td>bedak revlon color stay aqua mineral make up</td>\n",
       "      <td>3</td>\n",
       "      <td>beauty_image/9c6968066ebab57588c2f757a240d8b9.jpg</td>\n",
       "    </tr>\n",
       "  </tbody>\n",
       "</table>\n",
       "</div>"
      ],
      "text/plain": [
       "    itemid                                              title  Category  \\\n",
       "0   307504               nyx sex bomb pallete natural palette         0   \n",
       "1   461203  etude house precious mineral any cushion pearl...         1   \n",
       "2  3592295                           milani rose powder blush         2   \n",
       "3  4460167                etude house baby sweet sugar powder         3   \n",
       "4  5853995       bedak revlon color stay aqua mineral make up         3   \n",
       "\n",
       "                                          image_path  \n",
       "0  beauty_image/6b2e9cbb279ac95703348368aa65da09.jpg  \n",
       "1  beauty_image/20450222d857c9571ba8fa23bdedc8c9.jpg  \n",
       "2  beauty_image/6a5962bed605a3dd6604ca3a4278a4f9.jpg  \n",
       "3  beauty_image/56987ae186e8a8e71fcc5a261ca485da.jpg  \n",
       "4  beauty_image/9c6968066ebab57588c2f757a240d8b9.jpg  "
      ]
     },
     "execution_count": 3,
     "metadata": {},
     "output_type": "execute_result"
    }
   ],
   "source": [
    "trainData.head()"
   ]
  },
  {
   "cell_type": "code",
   "execution_count": 5,
   "metadata": {},
   "outputs": [],
   "source": [
    "maxlength=0\n",
    "for i in trainData[\"title\"]:\n",
    "    maxlength = max(maxlength,len(i))"
   ]
  },
  {
   "cell_type": "code",
   "execution_count": 6,
   "metadata": {},
   "outputs": [
    {
     "data": {
      "text/plain": [
       "106"
      ]
     },
     "execution_count": 6,
     "metadata": {},
     "output_type": "execute_result"
    }
   ],
   "source": [
    "maxlength"
   ]
  },
  {
   "cell_type": "code",
   "execution_count": 8,
   "metadata": {},
   "outputs": [
    {
     "data": {
      "text/plain": [
       "(666615, 4)"
      ]
     },
     "execution_count": 8,
     "metadata": {},
     "output_type": "execute_result"
    }
   ],
   "source": [
    "trainData.shape"
   ]
  },
  {
   "cell_type": "code",
   "execution_count": 10,
   "metadata": {},
   "outputs": [
    {
     "data": {
      "text/html": [
       "<div>\n",
       "<style scoped>\n",
       "    .dataframe tbody tr th:only-of-type {\n",
       "        vertical-align: middle;\n",
       "    }\n",
       "\n",
       "    .dataframe tbody tr th {\n",
       "        vertical-align: top;\n",
       "    }\n",
       "\n",
       "    .dataframe thead th {\n",
       "        text-align: right;\n",
       "    }\n",
       "</style>\n",
       "<table border=\"1\" class=\"dataframe\">\n",
       "  <thead>\n",
       "    <tr style=\"text-align: right;\">\n",
       "      <th></th>\n",
       "      <th>itemid</th>\n",
       "      <th>title</th>\n",
       "      <th>Category</th>\n",
       "      <th>image_path</th>\n",
       "    </tr>\n",
       "  </thead>\n",
       "  <tbody>\n",
       "    <tr>\n",
       "      <th>627234</th>\n",
       "      <td>1107275050</td>\n",
       "      <td>android 4g murah advan s5e full view</td>\n",
       "      <td>45</td>\n",
       "      <td>mobile_image/0628a3ad4aa71fe56362a99df7adf7c3.jpg</td>\n",
       "    </tr>\n",
       "    <tr>\n",
       "      <th>465122</th>\n",
       "      <td>1467981474</td>\n",
       "      <td>hearsbeauty wanita musim panas lintas tali tan...</td>\n",
       "      <td>25</td>\n",
       "      <td>fashion_image/7b801c530c581c8a5554261594df4af7</td>\n",
       "    </tr>\n",
       "    <tr>\n",
       "      <th>340611</th>\n",
       "      <td>964912077</td>\n",
       "      <td>long dress model lace up gaya medieval renaiss...</td>\n",
       "      <td>24</td>\n",
       "      <td>fashion_image/75d9e9115a953716f0d1d6fe8c9d9dc3</td>\n",
       "    </tr>\n",
       "    <tr>\n",
       "      <th>580994</th>\n",
       "      <td>1397829030</td>\n",
       "      <td>asus zenfone live za550kl 3gb 32gb resmi</td>\n",
       "      <td>43</td>\n",
       "      <td>mobile_image/bb9bfe49e021a5eb03bad3a6c6867cb5.jpg</td>\n",
       "    </tr>\n",
       "    <tr>\n",
       "      <th>857</th>\n",
       "      <td>1513966844</td>\n",
       "      <td>krim concealer pemutih natural</td>\n",
       "      <td>7</td>\n",
       "      <td>beauty_image/73eefd3adb69d47c1386199742098cb3.jpg</td>\n",
       "    </tr>\n",
       "    <tr>\n",
       "      <th>505228</th>\n",
       "      <td>845009737</td>\n",
       "      <td>polo basic woman 57</td>\n",
       "      <td>26</td>\n",
       "      <td>fashion_image/241155ee45f48800837b7705966d9062</td>\n",
       "    </tr>\n",
       "    <tr>\n",
       "      <th>205907</th>\n",
       "      <td>1440934346</td>\n",
       "      <td>kiss beauty aloe vera blusher powder blush on ...</td>\n",
       "      <td>2</td>\n",
       "      <td>beauty_image/527e72ba4e9372b9a22ee1fd98c3cd3f.jpg</td>\n",
       "    </tr>\n",
       "    <tr>\n",
       "      <th>223956</th>\n",
       "      <td>1488340984</td>\n",
       "      <td>la girl pro concealer natural</td>\n",
       "      <td>7</td>\n",
       "      <td>beauty_image/fdf2c6607c16a6ea89453635b58fed29.jpg</td>\n",
       "    </tr>\n",
       "    <tr>\n",
       "      <th>129132</th>\n",
       "      <td>1157815487</td>\n",
       "      <td>focallure cover liquid concealer</td>\n",
       "      <td>7</td>\n",
       "      <td>beauty_image/1a24440a153acab722108d7594d3ad33.jpg</td>\n",
       "    </tr>\n",
       "    <tr>\n",
       "      <th>402526</th>\n",
       "      <td>1288099384</td>\n",
       "      <td>dress mini halter tanpa lengan motif print bun...</td>\n",
       "      <td>18</td>\n",
       "      <td>fashion_image/cde8f92c0a6a2c1aae4dc1195a09445a</td>\n",
       "    </tr>\n",
       "  </tbody>\n",
       "</table>\n",
       "</div>"
      ],
      "text/plain": [
       "            itemid                                              title  \\\n",
       "627234  1107275050               android 4g murah advan s5e full view   \n",
       "465122  1467981474  hearsbeauty wanita musim panas lintas tali tan...   \n",
       "340611   964912077  long dress model lace up gaya medieval renaiss...   \n",
       "580994  1397829030           asus zenfone live za550kl 3gb 32gb resmi   \n",
       "857     1513966844                     krim concealer pemutih natural   \n",
       "505228   845009737                                polo basic woman 57   \n",
       "205907  1440934346  kiss beauty aloe vera blusher powder blush on ...   \n",
       "223956  1488340984                      la girl pro concealer natural   \n",
       "129132  1157815487                   focallure cover liquid concealer   \n",
       "402526  1288099384  dress mini halter tanpa lengan motif print bun...   \n",
       "\n",
       "        Category                                         image_path  \n",
       "627234        45  mobile_image/0628a3ad4aa71fe56362a99df7adf7c3.jpg  \n",
       "465122        25     fashion_image/7b801c530c581c8a5554261594df4af7  \n",
       "340611        24     fashion_image/75d9e9115a953716f0d1d6fe8c9d9dc3  \n",
       "580994        43  mobile_image/bb9bfe49e021a5eb03bad3a6c6867cb5.jpg  \n",
       "857            7  beauty_image/73eefd3adb69d47c1386199742098cb3.jpg  \n",
       "505228        26     fashion_image/241155ee45f48800837b7705966d9062  \n",
       "205907         2  beauty_image/527e72ba4e9372b9a22ee1fd98c3cd3f.jpg  \n",
       "223956         7  beauty_image/fdf2c6607c16a6ea89453635b58fed29.jpg  \n",
       "129132         7  beauty_image/1a24440a153acab722108d7594d3ad33.jpg  \n",
       "402526        18     fashion_image/cde8f92c0a6a2c1aae4dc1195a09445a  "
      ]
     },
     "execution_count": 10,
     "metadata": {},
     "output_type": "execute_result"
    }
   ],
   "source": [
    "trainData.sample(n=10)"
   ]
  },
  {
   "cell_type": "code",
   "execution_count": 32,
   "metadata": {},
   "outputs": [],
   "source": [
    "dic = {}\n",
    "\n",
    "for index,row in trainData.iterrows():\n",
    "    arr = re.split('\\W+',row[\"title\"])\n",
    "    for sz in arr:\n",
    "        if (sz,row[\"Category\"]) not in dic:\n",
    "            dic[(sz,row[\"Category\"])] = 1\n",
    "        else:\n",
    "            dic[(sz,row[\"Category\"])]+=1\n",
    "\n",
    "# for i in range(trainData.shape[0]):\n",
    "#     arr = re.split('\\W+',trainData[\"title\"][i])\n",
    "#     for j in arr:\n",
    "#         if (j,trainData[\"Category\"][i]) not in dic:\n",
    "#             dic[(j,trainData[\"Category\"][i])]=1\n",
    "#         else:\n",
    "#             dic[(j,trainData[\"Category\"][i])]+=1"
   ]
  },
  {
   "cell_type": "code",
   "execution_count": 38,
   "metadata": {},
   "outputs": [],
   "source": [
    "dicAll = {}\n"
   ]
  },
  {
   "cell_type": "code",
   "execution_count": 39,
   "metadata": {},
   "outputs": [],
   "source": [
    "for index,row in trainData.iterrows():\n",
    "    arr = re.split('\\W+',row[\"title\"])\n",
    "    for sz in arr:\n",
    "        if sz not in dicAll:\n",
    "            dicAll[sz] = 1\n",
    "        else:\n",
    "            dicAll[sz]+=1"
   ]
  },
  {
   "cell_type": "code",
   "execution_count": 37,
   "metadata": {},
   "outputs": [],
   "source": [
    "testData = pd.read_csv(\"test.csv\")"
   ]
  },
  {
   "cell_type": "code",
   "execution_count": 71,
   "metadata": {},
   "outputs": [],
   "source": [
    "idx = []\n",
    "res = []"
   ]
  },
  {
   "cell_type": "code",
   "execution_count": null,
   "metadata": {},
   "outputs": [],
   "source": [
    "for index,row in testData.iterrows():\n",
    "    maxi = 0.0\n",
    "    imax = 0\n",
    "    for i in range(58):\n",
    "        tot = 0.0\n",
    "        arr = re.split('\\W+',row[\"title\"])\n",
    "        for sz in arr:\n",
    "            if (sz,i) in dic:\n",
    "                tot += dic[(sz,i)]/dicAll[sz]\n",
    "        if tot>maxi:\n",
    "            maxi=tot\n",
    "            imax = i\n",
    "    idx.append(row[\"itemid\"])\n",
    "    res.append(imax)"
   ]
  },
  {
   "cell_type": "code",
   "execution_count": 66,
   "metadata": {},
   "outputs": [],
   "source": [
    "df = pd.DataFrame({'itemid': idx, 'Category':res})"
   ]
  },
  {
   "cell_type": "code",
   "execution_count": 69,
   "metadata": {},
   "outputs": [
    {
     "data": {
      "text/html": [
       "<div>\n",
       "<style scoped>\n",
       "    .dataframe tbody tr th:only-of-type {\n",
       "        vertical-align: middle;\n",
       "    }\n",
       "\n",
       "    .dataframe tbody tr th {\n",
       "        vertical-align: top;\n",
       "    }\n",
       "\n",
       "    .dataframe thead th {\n",
       "        text-align: right;\n",
       "    }\n",
       "</style>\n",
       "<table border=\"1\" class=\"dataframe\">\n",
       "  <thead>\n",
       "    <tr style=\"text-align: right;\">\n",
       "      <th></th>\n",
       "      <th>itemid</th>\n",
       "      <th>Category</th>\n",
       "    </tr>\n",
       "  </thead>\n",
       "  <tbody>\n",
       "    <tr>\n",
       "      <th>0</th>\n",
       "      <td>370855998</td>\n",
       "      <td>5</td>\n",
       "    </tr>\n",
       "    <tr>\n",
       "      <th>1</th>\n",
       "      <td>637234604</td>\n",
       "      <td>3</td>\n",
       "    </tr>\n",
       "    <tr>\n",
       "      <th>2</th>\n",
       "      <td>690282890</td>\n",
       "      <td>5</td>\n",
       "    </tr>\n",
       "    <tr>\n",
       "      <th>3</th>\n",
       "      <td>930913462</td>\n",
       "      <td>5</td>\n",
       "    </tr>\n",
       "    <tr>\n",
       "      <th>4</th>\n",
       "      <td>1039280071</td>\n",
       "      <td>5</td>\n",
       "    </tr>\n",
       "    <tr>\n",
       "      <th>5</th>\n",
       "      <td>1327710392</td>\n",
       "      <td>5</td>\n",
       "    </tr>\n",
       "    <tr>\n",
       "      <th>6</th>\n",
       "      <td>1328802799</td>\n",
       "      <td>5</td>\n",
       "    </tr>\n",
       "    <tr>\n",
       "      <th>7</th>\n",
       "      <td>1330468145</td>\n",
       "      <td>5</td>\n",
       "    </tr>\n",
       "    <tr>\n",
       "      <th>8</th>\n",
       "      <td>1677309730</td>\n",
       "      <td>5</td>\n",
       "    </tr>\n",
       "    <tr>\n",
       "      <th>9</th>\n",
       "      <td>1683142205</td>\n",
       "      <td>5</td>\n",
       "    </tr>\n",
       "  </tbody>\n",
       "</table>\n",
       "</div>"
      ],
      "text/plain": [
       "       itemid  Category\n",
       "0   370855998         5\n",
       "1   637234604         3\n",
       "2   690282890         5\n",
       "3   930913462         5\n",
       "4  1039280071         5\n",
       "5  1327710392         5\n",
       "6  1328802799         5\n",
       "7  1330468145         5\n",
       "8  1677309730         5\n",
       "9  1683142205         5"
      ]
     },
     "execution_count": 69,
     "metadata": {},
     "output_type": "execute_result"
    }
   ],
   "source": [
    "df.head(n=10)"
   ]
  },
  {
   "cell_type": "code",
   "execution_count": null,
   "metadata": {},
   "outputs": [],
   "source": []
  },
  {
   "cell_type": "code",
   "execution_count": 43,
   "metadata": {},
   "outputs": [
    {
     "ename": "JSONDecodeError",
     "evalue": "Expecting value: line 1 column 1 (char 0)",
     "output_type": "error",
     "traceback": [
      "\u001b[1;31m---------------------------------------------------------------------------\u001b[0m",
      "\u001b[1;31mJSONDecodeError\u001b[0m                           Traceback (most recent call last)",
      "\u001b[1;32m<ipython-input-43-3cfd0ebe7d2c>\u001b[0m in \u001b[0;36m<module>\u001b[1;34m\u001b[0m\n\u001b[1;32m----> 1\u001b[1;33m \u001b[0mcatData\u001b[0m \u001b[1;33m=\u001b[0m \u001b[0mjson\u001b[0m\u001b[1;33m.\u001b[0m\u001b[0mloads\u001b[0m\u001b[1;33m(\u001b[0m\u001b[1;34m\"categories.json\"\u001b[0m\u001b[1;33m)\u001b[0m\u001b[1;33m\u001b[0m\u001b[1;33m\u001b[0m\u001b[0m\n\u001b[0m",
      "\u001b[1;32mC:\\Anaconda\\lib\\json\\__init__.py\u001b[0m in \u001b[0;36mloads\u001b[1;34m(s, encoding, cls, object_hook, parse_float, parse_int, parse_constant, object_pairs_hook, **kw)\u001b[0m\n\u001b[0;32m    346\u001b[0m             \u001b[0mparse_int\u001b[0m \u001b[1;32mis\u001b[0m \u001b[1;32mNone\u001b[0m \u001b[1;32mand\u001b[0m \u001b[0mparse_float\u001b[0m \u001b[1;32mis\u001b[0m \u001b[1;32mNone\u001b[0m \u001b[1;32mand\u001b[0m\u001b[1;33m\u001b[0m\u001b[1;33m\u001b[0m\u001b[0m\n\u001b[0;32m    347\u001b[0m             parse_constant is None and object_pairs_hook is None and not kw):\n\u001b[1;32m--> 348\u001b[1;33m         \u001b[1;32mreturn\u001b[0m \u001b[0m_default_decoder\u001b[0m\u001b[1;33m.\u001b[0m\u001b[0mdecode\u001b[0m\u001b[1;33m(\u001b[0m\u001b[0ms\u001b[0m\u001b[1;33m)\u001b[0m\u001b[1;33m\u001b[0m\u001b[1;33m\u001b[0m\u001b[0m\n\u001b[0m\u001b[0;32m    349\u001b[0m     \u001b[1;32mif\u001b[0m \u001b[0mcls\u001b[0m \u001b[1;32mis\u001b[0m \u001b[1;32mNone\u001b[0m\u001b[1;33m:\u001b[0m\u001b[1;33m\u001b[0m\u001b[1;33m\u001b[0m\u001b[0m\n\u001b[0;32m    350\u001b[0m         \u001b[0mcls\u001b[0m \u001b[1;33m=\u001b[0m \u001b[0mJSONDecoder\u001b[0m\u001b[1;33m\u001b[0m\u001b[1;33m\u001b[0m\u001b[0m\n",
      "\u001b[1;32mC:\\Anaconda\\lib\\json\\decoder.py\u001b[0m in \u001b[0;36mdecode\u001b[1;34m(self, s, _w)\u001b[0m\n\u001b[0;32m    335\u001b[0m \u001b[1;33m\u001b[0m\u001b[0m\n\u001b[0;32m    336\u001b[0m         \"\"\"\n\u001b[1;32m--> 337\u001b[1;33m         \u001b[0mobj\u001b[0m\u001b[1;33m,\u001b[0m \u001b[0mend\u001b[0m \u001b[1;33m=\u001b[0m \u001b[0mself\u001b[0m\u001b[1;33m.\u001b[0m\u001b[0mraw_decode\u001b[0m\u001b[1;33m(\u001b[0m\u001b[0ms\u001b[0m\u001b[1;33m,\u001b[0m \u001b[0midx\u001b[0m\u001b[1;33m=\u001b[0m\u001b[0m_w\u001b[0m\u001b[1;33m(\u001b[0m\u001b[0ms\u001b[0m\u001b[1;33m,\u001b[0m \u001b[1;36m0\u001b[0m\u001b[1;33m)\u001b[0m\u001b[1;33m.\u001b[0m\u001b[0mend\u001b[0m\u001b[1;33m(\u001b[0m\u001b[1;33m)\u001b[0m\u001b[1;33m)\u001b[0m\u001b[1;33m\u001b[0m\u001b[1;33m\u001b[0m\u001b[0m\n\u001b[0m\u001b[0;32m    338\u001b[0m         \u001b[0mend\u001b[0m \u001b[1;33m=\u001b[0m \u001b[0m_w\u001b[0m\u001b[1;33m(\u001b[0m\u001b[0ms\u001b[0m\u001b[1;33m,\u001b[0m \u001b[0mend\u001b[0m\u001b[1;33m)\u001b[0m\u001b[1;33m.\u001b[0m\u001b[0mend\u001b[0m\u001b[1;33m(\u001b[0m\u001b[1;33m)\u001b[0m\u001b[1;33m\u001b[0m\u001b[1;33m\u001b[0m\u001b[0m\n\u001b[0;32m    339\u001b[0m         \u001b[1;32mif\u001b[0m \u001b[0mend\u001b[0m \u001b[1;33m!=\u001b[0m \u001b[0mlen\u001b[0m\u001b[1;33m(\u001b[0m\u001b[0ms\u001b[0m\u001b[1;33m)\u001b[0m\u001b[1;33m:\u001b[0m\u001b[1;33m\u001b[0m\u001b[1;33m\u001b[0m\u001b[0m\n",
      "\u001b[1;32mC:\\Anaconda\\lib\\json\\decoder.py\u001b[0m in \u001b[0;36mraw_decode\u001b[1;34m(self, s, idx)\u001b[0m\n\u001b[0;32m    353\u001b[0m             \u001b[0mobj\u001b[0m\u001b[1;33m,\u001b[0m \u001b[0mend\u001b[0m \u001b[1;33m=\u001b[0m \u001b[0mself\u001b[0m\u001b[1;33m.\u001b[0m\u001b[0mscan_once\u001b[0m\u001b[1;33m(\u001b[0m\u001b[0ms\u001b[0m\u001b[1;33m,\u001b[0m \u001b[0midx\u001b[0m\u001b[1;33m)\u001b[0m\u001b[1;33m\u001b[0m\u001b[1;33m\u001b[0m\u001b[0m\n\u001b[0;32m    354\u001b[0m         \u001b[1;32mexcept\u001b[0m \u001b[0mStopIteration\u001b[0m \u001b[1;32mas\u001b[0m \u001b[0merr\u001b[0m\u001b[1;33m:\u001b[0m\u001b[1;33m\u001b[0m\u001b[1;33m\u001b[0m\u001b[0m\n\u001b[1;32m--> 355\u001b[1;33m             \u001b[1;32mraise\u001b[0m \u001b[0mJSONDecodeError\u001b[0m\u001b[1;33m(\u001b[0m\u001b[1;34m\"Expecting value\"\u001b[0m\u001b[1;33m,\u001b[0m \u001b[0ms\u001b[0m\u001b[1;33m,\u001b[0m \u001b[0merr\u001b[0m\u001b[1;33m.\u001b[0m\u001b[0mvalue\u001b[0m\u001b[1;33m)\u001b[0m \u001b[1;32mfrom\u001b[0m \u001b[1;32mNone\u001b[0m\u001b[1;33m\u001b[0m\u001b[1;33m\u001b[0m\u001b[0m\n\u001b[0m\u001b[0;32m    356\u001b[0m         \u001b[1;32mreturn\u001b[0m \u001b[0mobj\u001b[0m\u001b[1;33m,\u001b[0m \u001b[0mend\u001b[0m\u001b[1;33m\u001b[0m\u001b[1;33m\u001b[0m\u001b[0m\n",
      "\u001b[1;31mJSONDecodeError\u001b[0m: Expecting value: line 1 column 1 (char 0)"
     ]
    }
   ],
   "source": [
    "catData = json.loads(\"categories.json\")"
   ]
  },
  {
   "cell_type": "code",
   "execution_count": 12,
   "metadata": {
    "scrolled": true
   },
   "outputs": [
    {
     "data": {
      "text/html": [
       "<div>\n",
       "<style scoped>\n",
       "    .dataframe tbody tr th:only-of-type {\n",
       "        vertical-align: middle;\n",
       "    }\n",
       "\n",
       "    .dataframe tbody tr th {\n",
       "        vertical-align: top;\n",
       "    }\n",
       "\n",
       "    .dataframe thead th {\n",
       "        text-align: right;\n",
       "    }\n",
       "</style>\n",
       "<table border=\"1\" class=\"dataframe\">\n",
       "  <thead>\n",
       "    <tr style=\"text-align: right;\">\n",
       "      <th></th>\n",
       "      <th>Mobile</th>\n",
       "      <th>Fashion</th>\n",
       "      <th>Beauty</th>\n",
       "    </tr>\n",
       "  </thead>\n",
       "  <tbody>\n",
       "    <tr>\n",
       "      <th>A Line Dress</th>\n",
       "      <td>NaN</td>\n",
       "      <td>21.0</td>\n",
       "      <td>NaN</td>\n",
       "    </tr>\n",
       "    <tr>\n",
       "      <th>Advan</th>\n",
       "      <td>45.0</td>\n",
       "      <td>NaN</td>\n",
       "      <td>NaN</td>\n",
       "    </tr>\n",
       "    <tr>\n",
       "      <th>Alcatel</th>\n",
       "      <td>55.0</td>\n",
       "      <td>NaN</td>\n",
       "      <td>NaN</td>\n",
       "    </tr>\n",
       "    <tr>\n",
       "      <th>Asus</th>\n",
       "      <td>43.0</td>\n",
       "      <td>NaN</td>\n",
       "      <td>NaN</td>\n",
       "    </tr>\n",
       "    <tr>\n",
       "      <th>BB &amp; CC Cream</th>\n",
       "      <td>NaN</td>\n",
       "      <td>NaN</td>\n",
       "      <td>5.0</td>\n",
       "    </tr>\n",
       "  </tbody>\n",
       "</table>\n",
       "</div>"
      ],
      "text/plain": [
       "               Mobile  Fashion  Beauty\n",
       "A Line Dress      NaN     21.0     NaN\n",
       "Advan            45.0      NaN     NaN\n",
       "Alcatel          55.0      NaN     NaN\n",
       "Asus             43.0      NaN     NaN\n",
       "BB & CC Cream     NaN      NaN     5.0"
      ]
     },
     "execution_count": 12,
     "metadata": {},
     "output_type": "execute_result"
    }
   ],
   "source": [
    "catData.head()"
   ]
  },
  {
   "cell_type": "code",
   "execution_count": 15,
   "metadata": {},
   "outputs": [],
   "source": [
    "categories_file = open(\"categories.json\", \"r\")\n",
    "categories = json.load(categories_file)"
   ]
  },
  {
   "cell_type": "code",
   "execution_count": 16,
   "metadata": {},
   "outputs": [
    {
     "data": {
      "text/plain": [
       "{'Mobile': {'Others Mobile & Tablet': 35,\n",
       "  'Smartfren': 53,\n",
       "  'Infinix': 40,\n",
       "  'Brandcode': 39,\n",
       "  'Icherry': 52,\n",
       "  'Advan': 45,\n",
       "  'Iphone': 31,\n",
       "  'Realme': 51,\n",
       "  'Motorola': 49,\n",
       "  'Maxtron': 56,\n",
       "  'Nokia': 38,\n",
       "  'Xiaomi': 34,\n",
       "  'Mito': 46,\n",
       "  'Sony': 33,\n",
       "  'SPC': 57,\n",
       "  'Lenovo': 37,\n",
       "  'Alcatel': 55,\n",
       "  'Samsung': 32,\n",
       "  'Vivo': 42,\n",
       "  'Evercoss': 44,\n",
       "  'Strawberry': 50,\n",
       "  'Blackberry': 36,\n",
       "  'Asus': 43,\n",
       "  'Honor': 54,\n",
       "  'Oppo': 41,\n",
       "  'Huawei': 47,\n",
       "  'Sharp': 48},\n",
       " 'Fashion': {'Wedding Dress': 23,\n",
       "  'Shirt': 27,\n",
       "  'Casual Dress': 18,\n",
       "  'Maxi Dress': 20,\n",
       "  'Big Size Dress': 24,\n",
       "  'Bodycon Dress': 22,\n",
       "  'Party Dress': 19,\n",
       "  'Blouse\\xa0': 26,\n",
       "  'Tshirt': 25,\n",
       "  'Crop Top ': 29,\n",
       "  'Tanktop': 28,\n",
       "  'Others': 17,\n",
       "  'A Line Dress': 21,\n",
       "  'Big Size Top': 30},\n",
       " 'Beauty': {'Foundation': 1,\n",
       "  'Face Palette': 0,\n",
       "  'Concealer': 7,\n",
       "  'Lip Gloss': 14,\n",
       "  'Blush On': 2,\n",
       "  'Highlighter': 8,\n",
       "  'BB & CC Cream': 5,\n",
       "  'Other Face Cosmetics': 4,\n",
       "  'Lip Tint': 13,\n",
       "  'Bronzer': 11,\n",
       "  'Lip Liner': 15,\n",
       "  'Powder': 3,\n",
       "  'Setting Spray': 10,\n",
       "  'Primer': 9,\n",
       "  'Contour': 6,\n",
       "  'Other Lip Cosmetics': 16,\n",
       "  'Lipstick': 12}}"
      ]
     },
     "execution_count": 16,
     "metadata": {},
     "output_type": "execute_result"
    }
   ],
   "source": [
    "categories"
   ]
  },
  {
   "cell_type": "code",
   "execution_count": null,
   "metadata": {},
   "outputs": [],
   "source": []
  }
 ],
 "metadata": {
  "kernelspec": {
   "display_name": "Python 3",
   "language": "python",
   "name": "python3"
  },
  "language_info": {
   "codemirror_mode": {
    "name": "ipython",
    "version": 3
   },
   "file_extension": ".py",
   "mimetype": "text/x-python",
   "name": "python",
   "nbconvert_exporter": "python",
   "pygments_lexer": "ipython3",
   "version": "3.7.1"
  }
 },
 "nbformat": 4,
 "nbformat_minor": 2
}
