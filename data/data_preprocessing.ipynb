{
 "cells": [
  {
   "cell_type": "code",
   "execution_count": 1,
   "metadata": {},
   "outputs": [],
   "source": [
    "import pandas as pd\n",
    "import re"
   ]
  },
  {
   "cell_type": "code",
   "execution_count": 174,
   "metadata": {},
   "outputs": [],
   "source": [
    "train_data = pd.read_csv('train.csv')\n",
    "train_title = train_data['title'].tolist()\n",
    "test_data = pd.read_csv('test.csv')\n",
    "test_title = test_data['title'].tolist()"
   ]
  },
  {
   "cell_type": "code",
   "execution_count": 175,
   "metadata": {},
   "outputs": [],
   "source": [
    "def preprocessing(title_array):\n",
    "    new_title_array = []\n",
    "    for title in title_array:\n",
    "        new_title = re.sub('[^a-z0-9 ]', '', title.lower())             # lowercase\n",
    "        new_title = re.sub('((\\A| )\\d+) +([a-z]+)', r'\\1\\3', new_title) # combine numbers and words (e.g. 3 ml -> 3ml)\n",
    "        new_title = re.sub(' [a-z]{1} ', ' ', new_title)                # remove 1-letter words\n",
    "        new_title_array.append(new_title)\n",
    "    return new_title_array"
   ]
  },
  {
   "cell_type": "code",
   "execution_count": 176,
   "metadata": {},
   "outputs": [],
   "source": [
    "new_train_title = preprocessing(train_title)\n",
    "new_test_title = preprocessing(test_title)"
   ]
  },
  {
   "cell_type": "code",
   "execution_count": 177,
   "metadata": {},
   "outputs": [],
   "source": [
    "train_data['title'] = new_train_title\n",
    "test_data['title'] = new_test_title\n",
    "train_data.to_csv(index=False, path_or_buf='new_train.csv')\n",
    "test_data.to_csv(index=False, path_or_buf='new_test.csv')"
   ]
  }
 ],
 "metadata": {
  "kernelspec": {
   "display_name": "Python 3",
   "language": "python",
   "name": "python3"
  },
  "language_info": {
   "codemirror_mode": {
    "name": "ipython",
    "version": 3
   },
   "file_extension": ".py",
   "mimetype": "text/x-python",
   "name": "python",
   "nbconvert_exporter": "python",
   "pygments_lexer": "ipython3",
   "version": "3.7.2"
  }
 },
 "nbformat": 4,
 "nbformat_minor": 2
}
